{
  "nbformat": 4,
  "nbformat_minor": 0,
  "metadata": {
    "colab": {
      "name": "GRU Language Model.ipynb",
      "provenance": [],
      "authorship_tag": "ABX9TyNgColai1cruXJYW3hXl+Sr",
      "include_colab_link": true
    },
    "kernelspec": {
      "name": "python3",
      "display_name": "Python 3"
    },
    "accelerator": "GPU"
  },
  "cells": [
    {
      "cell_type": "markdown",
      "metadata": {
        "id": "view-in-github",
        "colab_type": "text"
      },
      "source": [
        "<a href=\"https://colab.research.google.com/github/mohameddhameem/LearnPyTorch/blob/master/GRU_Language_Model.ipynb\" target=\"_parent\"><img src=\"https://colab.research.google.com/assets/colab-badge.svg\" alt=\"Open In Colab\"/></a>"
      ]
    },
    {
      "cell_type": "markdown",
      "metadata": {
        "id": "vqduAs3MUwgh",
        "colab_type": "text"
      },
      "source": [
        "#GRU Language Model"
      ]
    },
    {
      "cell_type": "code",
      "metadata": {
        "id": "b7jmj0qSU-uG",
        "colab_type": "code",
        "colab": {
          "base_uri": "https://localhost:8080/",
          "height": 34
        },
        "outputId": "276b9d60-d9c2-4fa5-949d-3e6e7d762b76"
      },
      "source": [
        "from IPython.display import Image\n",
        "from IPython.core.display import HTML\n",
        "\n",
        "from IPython.display import clear_output\n",
        "\n",
        "#Other essential libraries\n",
        "from collections import namedtuple\n",
        "\n",
        "import numpy as np\n",
        "from tqdm import tqdm\n",
        "\n",
        "import pandas as pd\n",
        "\n",
        "import torch\n",
        "from torch import nn, optim, tensor, autograd\n",
        "from torch.nn import functional as F\n",
        "from torch.utils.data import Dataset, DataLoader\n",
        "\n",
        "from torch.nn.utils.rnn import pack_padded_sequence, pad_packed_sequence\n",
        "\n",
        "device = 'cuda' if torch.cuda.is_available() else 'cpu'\n",
        "device"
      ],
      "execution_count": 1,
      "outputs": [
        {
          "output_type": "execute_result",
          "data": {
            "text/plain": [
              "'cuda'"
            ]
          },
          "metadata": {
            "tags": []
          },
          "execution_count": 1
        }
      ]
    },
    {
      "cell_type": "code",
      "metadata": {
        "id": "daC0-ylDZ8FX",
        "colab_type": "code",
        "colab": {
          "base_uri": "https://localhost:8080/",
          "height": 531
        },
        "outputId": "c09aa4e8-994b-4f2e-9535-f752300eeb2a"
      },
      "source": [
        "!pip install -U gensim==3.7.1"
      ],
      "execution_count": 25,
      "outputs": [
        {
          "output_type": "stream",
          "text": [
            "Collecting gensim==3.7.1\n",
            "\u001b[?25l  Downloading https://files.pythonhosted.org/packages/d7/b9/6c93685bed0026b6a1cce55ab173f6b617f6db0d1325d25489c2fd43e711/gensim-3.7.1-cp36-cp36m-manylinux1_x86_64.whl (24.2MB)\n",
            "\u001b[K     |████████████████████████████████| 24.2MB 126kB/s \n",
            "\u001b[?25hRequirement already satisfied, skipping upgrade: numpy>=1.11.3 in /usr/local/lib/python3.6/dist-packages (from gensim==3.7.1) (1.17.5)\n",
            "Requirement already satisfied, skipping upgrade: six>=1.5.0 in /usr/local/lib/python3.6/dist-packages (from gensim==3.7.1) (1.12.0)\n",
            "Requirement already satisfied, skipping upgrade: smart-open>=1.7.0 in /usr/local/lib/python3.6/dist-packages (from gensim==3.7.1) (1.9.0)\n",
            "Requirement already satisfied, skipping upgrade: scipy>=0.18.1 in /usr/local/lib/python3.6/dist-packages (from gensim==3.7.1) (1.4.1)\n",
            "Requirement already satisfied, skipping upgrade: boto>=2.32 in /usr/local/lib/python3.6/dist-packages (from smart-open>=1.7.0->gensim==3.7.1) (2.49.0)\n",
            "Requirement already satisfied, skipping upgrade: requests in /usr/local/lib/python3.6/dist-packages (from smart-open>=1.7.0->gensim==3.7.1) (2.21.0)\n",
            "Requirement already satisfied, skipping upgrade: boto3 in /usr/local/lib/python3.6/dist-packages (from smart-open>=1.7.0->gensim==3.7.1) (1.11.15)\n",
            "Requirement already satisfied, skipping upgrade: idna<2.9,>=2.5 in /usr/local/lib/python3.6/dist-packages (from requests->smart-open>=1.7.0->gensim==3.7.1) (2.8)\n",
            "Requirement already satisfied, skipping upgrade: chardet<3.1.0,>=3.0.2 in /usr/local/lib/python3.6/dist-packages (from requests->smart-open>=1.7.0->gensim==3.7.1) (3.0.4)\n",
            "Requirement already satisfied, skipping upgrade: urllib3<1.25,>=1.21.1 in /usr/local/lib/python3.6/dist-packages (from requests->smart-open>=1.7.0->gensim==3.7.1) (1.24.3)\n",
            "Requirement already satisfied, skipping upgrade: certifi>=2017.4.17 in /usr/local/lib/python3.6/dist-packages (from requests->smart-open>=1.7.0->gensim==3.7.1) (2019.11.28)\n",
            "Requirement already satisfied, skipping upgrade: botocore<1.15.0,>=1.14.15 in /usr/local/lib/python3.6/dist-packages (from boto3->smart-open>=1.7.0->gensim==3.7.1) (1.14.15)\n",
            "Requirement already satisfied, skipping upgrade: jmespath<1.0.0,>=0.7.1 in /usr/local/lib/python3.6/dist-packages (from boto3->smart-open>=1.7.0->gensim==3.7.1) (0.9.4)\n",
            "Requirement already satisfied, skipping upgrade: s3transfer<0.4.0,>=0.3.0 in /usr/local/lib/python3.6/dist-packages (from boto3->smart-open>=1.7.0->gensim==3.7.1) (0.3.3)\n",
            "Requirement already satisfied, skipping upgrade: python-dateutil<3.0.0,>=2.1 in /usr/local/lib/python3.6/dist-packages (from botocore<1.15.0,>=1.14.15->boto3->smart-open>=1.7.0->gensim==3.7.1) (2.6.1)\n",
            "Requirement already satisfied, skipping upgrade: docutils<0.16,>=0.10 in /usr/local/lib/python3.6/dist-packages (from botocore<1.15.0,>=1.14.15->boto3->smart-open>=1.7.0->gensim==3.7.1) (0.15.2)\n",
            "Installing collected packages: gensim\n",
            "  Found existing installation: gensim 3.8.1\n",
            "    Uninstalling gensim-3.8.1:\n",
            "      Successfully uninstalled gensim-3.8.1\n",
            "Successfully installed gensim-3.7.1\n"
          ],
          "name": "stdout"
        },
        {
          "output_type": "display_data",
          "data": {
            "application/vnd.colab-display-data+json": {
              "pip_warning": {
                "packages": [
                  "gensim"
                ]
              }
            }
          },
          "metadata": {
            "tags": []
          }
        }
      ]
    },
    {
      "cell_type": "code",
      "metadata": {
        "id": "oYD2osi4aCd2",
        "colab_type": "code",
        "colab": {
          "base_uri": "https://localhost:8080/",
          "height": 34
        },
        "outputId": "ffd32866-9d6f-420b-b13c-83db89b7b947"
      },
      "source": [
        "import gensim\n",
        "print(gensim.__version__)\n",
        "# gensim version has to be \n",
        "from gensim.corpora import Dictionary"
      ],
      "execution_count": 2,
      "outputs": [
        {
          "output_type": "stream",
          "text": [
            "3.7.1\n"
          ],
          "name": "stdout"
        }
      ]
    },
    {
      "cell_type": "code",
      "metadata": {
        "id": "WuJAcmzlVGgu",
        "colab_type": "code",
        "colab": {
          "base_uri": "https://localhost:8080/",
          "height": 34
        },
        "outputId": "d44b2f23-42c2-451a-99a2-d4b7ec707a18"
      },
      "source": [
        "import matplotlib.pyplot as plt\n",
        "import seaborn as sns\n",
        "\n",
        "sns.set_style(\"darkgrid\")\n",
        "sns.set(rc={'figure.figsize':(12, 8)})\n",
        "#Set the random seed\n",
        "torch.manual_seed(42)"
      ],
      "execution_count": 3,
      "outputs": [
        {
          "output_type": "execute_result",
          "data": {
            "text/plain": [
              "<torch._C.Generator at 0x7fc3604dbfb0>"
            ]
          },
          "metadata": {
            "tags": []
          },
          "execution_count": 3
        }
      ]
    },
    {
      "cell_type": "code",
      "metadata": {
        "id": "l7N7aLHsVV_O",
        "colab_type": "code",
        "colab": {}
      },
      "source": [
        "try: # Use the default NLTK tokenizer.\n",
        "    from nltk import word_tokenize, sent_tokenize \n",
        "    # Testing whether it works. \n",
        "    # Sometimes it doesn't work on some machines because of setup issues.\n",
        "    word_tokenize(sent_tokenize(\"This is a foobar sentence. Yes it is.\")[0])\n",
        "except: # Use a naive sentence tokenizer and toktok.\n",
        "    import re\n",
        "    from nltk.tokenize import ToktokTokenizer\n",
        "    # See https://stackoverflow.com/a/25736515/610569\n",
        "    sent_tokenize = lambda x: re.split(r'(?<=[^A-Z].[.?]) +(?=[A-Z])', x)\n",
        "    # Use the toktok tokenizer that requires no dependencies.\n",
        "    toktok = ToktokTokenizer()\n",
        "    word_tokenize = word_tokenize = toktok.tokenize"
      ],
      "execution_count": 0,
      "outputs": []
    },
    {
      "cell_type": "code",
      "metadata": {
        "id": "yXZdYfo7Vc4u",
        "colab_type": "code",
        "colab": {}
      },
      "source": [
        "import os\n",
        "import requests\n",
        "import io #codecs\n",
        "\n",
        "\n",
        "# Text version of https://kilgarriff.co.uk/Publications/2005-K-lineer.pdf\n",
        "if os.path.isfile('language-never-random.txt'):\n",
        "    with io.open('language-never-random.txt', encoding='utf8') as fin:\n",
        "        text = fin.read()\n",
        "else:\n",
        "    #Lets try to download the file if its not available in the system\n",
        "    url = \"https://gist.githubusercontent.com/alvations/53b01e4076573fea47c6057120bb017a/raw/b01ff96a5f76848450e648f35da6497ca9454e4a/language-never-random.txt\"\n",
        "    text = requests.get(url).content.decode('utf8')\n",
        "    with io.open('language-never-random.txt', 'w', encoding='utf8') as fout:\n",
        "        fout.write(text)"
      ],
      "execution_count": 0,
      "outputs": []
    },
    {
      "cell_type": "code",
      "metadata": {
        "id": "4ZsMWvSIVfyo",
        "colab_type": "code",
        "colab": {}
      },
      "source": [
        "# Tokenize the text.\n",
        "tokenized_text = [list(map(str.lower, word_tokenize(sent))) \n",
        "                  for sent in sent_tokenize(text)]"
      ],
      "execution_count": 0,
      "outputs": []
    },
    {
      "cell_type": "code",
      "metadata": {
        "id": "9lp_65S_VwUW",
        "colab_type": "code",
        "colab": {}
      },
      "source": [
        "class KilgariffDataset(nn.Module):\n",
        "    def __init__(self, texts):\n",
        "        self.texts = texts\n",
        "        \n",
        "        # Initialize the vocab \n",
        "        special_tokens = {'<pad>': 0, '<unk>':1, '<s>':2, '</s>':3}\n",
        "        self.vocab = Dictionary(texts)\n",
        "        self.vocab.patch_with_special_tokens(special_tokens)\n",
        "        \n",
        "        # Keep track of the vocab size.\n",
        "        self.vocab_size = len(self.vocab)\n",
        "        \n",
        "        # Keep track of how many data points.\n",
        "        self._len = len(texts)\n",
        "        \n",
        "        # Find the longest text in the data.\n",
        "        self.max_len = max(len(txt) for txt in texts) \n",
        "        \n",
        "    def __getitem__(self, index):\n",
        "        vectorized_sent = self.vectorize(self.texts[index])\n",
        "        x_len = len(vectorized_sent)\n",
        "        # To pad the sentence:\n",
        "        # Pad left = 0; Pad right = max_len - len of sent.\n",
        "        pad_dim = (0, self.max_len - len(vectorized_sent))\n",
        "        vectorized_sent = F.pad(vectorized_sent, pad_dim, 'constant')\n",
        "        return {'x':vectorized_sent[:-1], \n",
        "                'y':vectorized_sent[1:], \n",
        "                'x_len':x_len}\n",
        "    \n",
        "    def __len__(self):\n",
        "        return self._len\n",
        "    \n",
        "    def vectorize(self, tokens, start_idx=2, end_idx=3):\n",
        "        \"\"\"\n",
        "        :param tokens: Tokens that should be vectorized. \n",
        "        :type tokens: list(str)\n",
        "        \"\"\"\n",
        "        # See https://radimrehurek.com/gensim/corpora/dictionary.html#gensim.corpora.dictionary.Dictionary.doc2idx \n",
        "        # Lets just cast list of indices into torch tensors directly =)\n",
        "        \n",
        "        vectorized_sent = [start_idx] + self.vocab.doc2idx(tokens) + [end_idx]\n",
        "        return torch.tensor(vectorized_sent)\n",
        "    \n",
        "    def unvectorize(self, indices):\n",
        "        \"\"\"\n",
        "        :param indices: Converts the indices back to tokens.\n",
        "        :type tokens: list(int)\n",
        "        \"\"\"\n",
        "        return [self.vocab[i] for i in indices]"
      ],
      "execution_count": 0,
      "outputs": []
    },
    {
      "cell_type": "code",
      "metadata": {
        "id": "WV6CAvpNX_0D",
        "colab_type": "code",
        "colab": {
          "base_uri": "https://localhost:8080/",
          "height": 34
        },
        "outputId": "d2580e4a-220f-469f-fbe9-195c49275d55"
      },
      "source": [
        "kilgariff_data = KilgariffDataset(tokenized_text)\n",
        "len(kilgariff_data.vocab)"
      ],
      "execution_count": 9,
      "outputs": [
        {
          "output_type": "execute_result",
          "data": {
            "text/plain": [
              "1430"
            ]
          },
          "metadata": {
            "tags": []
          },
          "execution_count": 9
        }
      ]
    },
    {
      "cell_type": "code",
      "metadata": {
        "id": "QQCgj0LUYC4q",
        "colab_type": "code",
        "colab": {
          "base_uri": "https://localhost:8080/",
          "height": 238
        },
        "outputId": "70732331-3303-4218-c9a0-4efcbc95e8bf"
      },
      "source": [
        "batch_size = 10\n",
        "dataloader = DataLoader(dataset=kilgariff_data, batch_size=batch_size, shuffle=True)\n",
        "\n",
        "for data_dict in dataloader:\n",
        "    # Sort indices of data in batch by lengths.\n",
        "    sorted_indices = np.array(data_dict['x_len']).argsort()[::-1].tolist()\n",
        "    data_batch = {name:_tensor[sorted_indices]\n",
        "                  for name, _tensor in data_dict.items()}\n",
        "    print(data_batch)\n",
        "    break"
      ],
      "execution_count": 10,
      "outputs": [
        {
          "output_type": "stream",
          "text": [
            "{'x': tensor([[   2,  125,  738,  ...,    0,    0,    0],\n",
            "        [   2,  644,   48,  ...,    0,    0,    0],\n",
            "        [   2,   30,   58,  ...,    0,    0,    0],\n",
            "        ...,\n",
            "        [   2, 1010,    4,  ...,    0,    0,    0],\n",
            "        [   2,   35, 1112,  ...,    0,    0,    0],\n",
            "        [   2,   45,    8,  ...,    0,    0,    0]]), 'y': tensor([[ 125,  738,   83,  ...,    0,    0,    0],\n",
            "        [ 644,   48,  104,  ...,    0,    0,    0],\n",
            "        [  30,   58,   69,  ...,    0,    0,    0],\n",
            "        ...,\n",
            "        [1010,    4, 1011,  ...,    0,    0,    0],\n",
            "        [  35, 1112, 1257,  ...,    0,    0,    0],\n",
            "        [  45,    8, 1130,  ...,    0,    0,    0]]), 'x_len': tensor([98, 60, 48, 45, 24, 22, 18, 14, 13,  6])}\n"
          ],
          "name": "stdout"
        }
      ]
    },
    {
      "cell_type": "code",
      "metadata": {
        "id": "BLfIyLPMe_Yv",
        "colab_type": "code",
        "colab": {}
      },
      "source": [
        "class Generator(nn.Module):\n",
        "    def __init__(self, vocab_size, embedding_size, hidden_size, num_layers):\n",
        "        super(Generator, self).__init__()\n",
        "\n",
        "        # Initialize the embedding layer with the \n",
        "        # - size of input (i.e. no. of words in input vocab)\n",
        "        # - no. of hidden nodes in the embedding layer\n",
        "        self.embedding = nn.Embedding(vocab_size, embedding_size, padding_idx=0)\n",
        "        \n",
        "        # Initialize the GRU with the \n",
        "        # - size of the input (i.e. embedding layer)\n",
        "        # - size of the hidden layer \n",
        "        self.gru = nn.GRU(embedding_size, hidden_size, num_layers, batch_first=True)\n",
        "        \n",
        "        # Initialize the \"classifier\" layer to map the RNN outputs\n",
        "        # to the vocabulary. Remember we need to -1 because the \n",
        "        # vectorized sentence we left out one token for both x and y:\n",
        "        # - size of hidden_size of the GRU output.\n",
        "        # - size of vocabulary\n",
        "        self.classifier = nn.Linear(hidden_size, vocab_size)\n",
        "        \n",
        "    def forward(self, inputs, use_softmax=False, hidden=None):\n",
        "        # Look up for the embeddings for the input word indices.\n",
        "        embedded = self.embedding(inputs)\n",
        "        # Put the embedded inputs into the GRU.\n",
        "        output, hidden = self.gru(embedded, hidden)\n",
        "        \n",
        "        # Matrix manipulation magic.\n",
        "        batch_size, sequence_len, hidden_size = output.shape\n",
        "        # Technically, linear layer takes a 2-D matrix as input, so more manipulation...\n",
        "        output = output.contiguous().view(batch_size * sequence_len, hidden_size)\n",
        "        # Apply dropout.\n",
        "        output = F.dropout(output, 0.5)\n",
        "        # Put it through the classifier\n",
        "        # And reshape it to [batch_size x sequence_len x vocab_size]\n",
        "        output = self.classifier(output).view(batch_size, sequence_len, -1)\n",
        "        \n",
        "        return (F.softmax(output,dim=2), hidden) if use_softmax else (output, hidden)       \n"
      ],
      "execution_count": 0,
      "outputs": []
    },
    {
      "cell_type": "code",
      "metadata": {
        "id": "yK6u3J7jgZBZ",
        "colab_type": "code",
        "colab": {}
      },
      "source": [
        "# Set the hidden_size of the GRU \n",
        "embed_size = 12\n",
        "hidden_size = 10\n",
        "num_layers = 1\n",
        "\n",
        "_encoder = Generator(len(kilgariff_data.vocab), embed_size, hidden_size, num_layers)"
      ],
      "execution_count": 0,
      "outputs": []
    },
    {
      "cell_type": "code",
      "metadata": {
        "id": "ReRjHT6zggIf",
        "colab_type": "code",
        "colab": {}
      },
      "source": [
        "# Take a batch.\n",
        "batch_size = 15\n",
        "dataloader = DataLoader(dataset=kilgariff_data, batch_size=batch_size, shuffle=True)\n",
        "\n",
        "_batch = next(iter(dataloader))\n",
        "_inputs, _lengths = _batch['x'], _batch['x_len']\n",
        "_targets = _batch['y']"
      ],
      "execution_count": 0,
      "outputs": []
    },
    {
      "cell_type": "code",
      "metadata": {
        "id": "Lf-z2-E6gjdR",
        "colab_type": "code",
        "colab": {
          "base_uri": "https://localhost:8080/",
          "height": 68
        },
        "outputId": "74131fa6-cbd1-44ab-9464-39ef4f9fa532"
      },
      "source": [
        "_output, _hidden = _encoder(_inputs)\n",
        "print('Output sizes:\\t', _output.shape)\n",
        "print('Input sizes:\\t', batch_size, kilgariff_data.max_len -1, len(kilgariff_data.vocab))\n",
        "print('Target sizes:\\t', _targets.shape)"
      ],
      "execution_count": 14,
      "outputs": [
        {
          "output_type": "stream",
          "text": [
            "Output sizes:\t torch.Size([15, 184, 1430])\n",
            "Input sizes:\t 15 184 1430\n",
            "Target sizes:\t torch.Size([15, 184])\n"
          ],
          "name": "stdout"
        }
      ]
    },
    {
      "cell_type": "code",
      "metadata": {
        "id": "PgArcf93glzz",
        "colab_type": "code",
        "colab": {
          "base_uri": "https://localhost:8080/",
          "height": 34
        },
        "outputId": "204920e5-0f8b-401b-e26a-1dbf175e4410"
      },
      "source": [
        "_output.shape"
      ],
      "execution_count": 15,
      "outputs": [
        {
          "output_type": "execute_result",
          "data": {
            "text/plain": [
              "torch.Size([15, 184, 1430])"
            ]
          },
          "metadata": {
            "tags": []
          },
          "execution_count": 15
        }
      ]
    },
    {
      "cell_type": "code",
      "metadata": {
        "id": "rr_xd0vjgpIU",
        "colab_type": "code",
        "colab": {
          "base_uri": "https://localhost:8080/",
          "height": 34
        },
        "outputId": "71bef1c0-7400-42be-c67f-ed2fbb48f073"
      },
      "source": [
        "_output[-1].shape"
      ],
      "execution_count": 16,
      "outputs": [
        {
          "output_type": "execute_result",
          "data": {
            "text/plain": [
              "torch.Size([184, 1430])"
            ]
          },
          "metadata": {
            "tags": []
          },
          "execution_count": 16
        }
      ]
    },
    {
      "cell_type": "code",
      "metadata": {
        "id": "Vp37wXuPgrkG",
        "colab_type": "code",
        "colab": {
          "base_uri": "https://localhost:8080/",
          "height": 34
        },
        "outputId": "a5d7b87b-c890-44e8-f1be-56315e6db715"
      },
      "source": [
        "_, predicted_indices = torch.max(_output, dim=1)\n",
        "print(predicted_indices.shape)"
      ],
      "execution_count": 17,
      "outputs": [
        {
          "output_type": "stream",
          "text": [
            "torch.Size([15, 1430])\n"
          ],
          "name": "stdout"
        }
      ]
    },
    {
      "cell_type": "code",
      "metadata": {
        "id": "3rnZE9GFguHs",
        "colab_type": "code",
        "colab": {
          "base_uri": "https://localhost:8080/",
          "height": 54
        },
        "outputId": "7d4f36dd-38ea-42d7-b84a-cc84c798ee6f"
      },
      "source": [
        "_hyper = ['embed_size', 'hidden_size', 'num_layers',\n",
        "          'loss_func', 'learning_rate', 'optimizer', 'batch_size']\n",
        "Hyperparams = namedtuple('Hyperparams', _hyper)\n",
        "\n",
        "\n",
        "hyperparams = Hyperparams(embed_size=250, hidden_size=250, num_layers=1,\n",
        "                          loss_func=nn.CrossEntropyLoss,\n",
        "                          learning_rate=0.03, optimizer=optim.Adam, batch_size=245)\n",
        "\n",
        "hyperparams"
      ],
      "execution_count": 18,
      "outputs": [
        {
          "output_type": "execute_result",
          "data": {
            "text/plain": [
              "Hyperparams(embed_size=250, hidden_size=250, num_layers=1, loss_func=<class 'torch.nn.modules.loss.CrossEntropyLoss'>, learning_rate=0.03, optimizer=<class 'torch.optim.adam.Adam'>, batch_size=245)"
            ]
          },
          "metadata": {
            "tags": []
          },
          "execution_count": 18
        }
      ]
    },
    {
      "cell_type": "code",
      "metadata": {
        "id": "dNd5dglUgy_Z",
        "colab_type": "code",
        "colab": {}
      },
      "source": [
        "# Training routine.\n",
        "def train(num_epochs, dataloader, model, criterion, optimizer):\n",
        "    losses = []\n",
        "    plt.ion()\n",
        "    for _e in range(num_epochs):\n",
        "        for batch in tqdm(dataloader):\n",
        "            # Zero gradient.\n",
        "            optimizer.zero_grad()\n",
        "            x = batch['x'].to(device)\n",
        "            x_len = batch['x_len'].to(device)\n",
        "            y = batch['y'].to(device)\n",
        "            # Feed forward. \n",
        "            output, hidden = model(x, use_softmax=False)\n",
        "            # Compute loss:\n",
        "            # Shape of the `output` is [batch_size x sequence_len x vocab_size]\n",
        "            # Shape of `y` is [batch_size x sequence_len]\n",
        "            # CrossEntropyLoss expects `output` to be [batch_size x vocab_size x sequence_len]\n",
        "            _, prediction = torch.max(output, dim=2)\n",
        "            loss = criterion(output.permute(0, 2, 1), y)\n",
        "            loss.backward()\n",
        "            optimizer.step()\n",
        "            losses.append(loss.float().data)\n",
        "\n",
        "        clear_output(wait=True)\n",
        "        plt.plot(losses)\n",
        "        plt.pause(0.05)\n",
        "\n",
        "\n",
        "def initialize_data_model_optim_loss(hyperparams):\n",
        "    # Initialize the dataset and dataloader.\n",
        "    kilgariff_data = KilgariffDataset(tokenized_text)\n",
        "    dataloader = DataLoader(dataset=kilgariff_data, \n",
        "                            batch_size=hyperparams.batch_size, \n",
        "                            shuffle=True)\n",
        "\n",
        "    # Loss function.\n",
        "    criterion = hyperparams.loss_func(ignore_index=kilgariff_data.vocab.token2id['<pad>'], \n",
        "                                      reduction='mean')\n",
        "\n",
        "    # Model.\n",
        "    model = Generator(len(kilgariff_data.vocab), hyperparams.embed_size, \n",
        "                      hyperparams.hidden_size, hyperparams.num_layers).to(device)\n",
        "\n",
        "    # Optimizer.\n",
        "    optimizer = hyperparams.optimizer(model.parameters(), lr=hyperparams.learning_rate)\n",
        "    \n",
        "    return dataloader, model, optimizer, criterion"
      ],
      "execution_count": 0,
      "outputs": []
    },
    {
      "cell_type": "code",
      "metadata": {
        "id": "aTRsHuGThaWz",
        "colab_type": "code",
        "colab": {}
      },
      "source": [
        "def generate_example(model, temperature=1.0, max_len=100, hidden_state=None):\n",
        "    start_token, start_idx = '<s>', 2\n",
        "    # Start state.\n",
        "    inputs = torch.tensor(kilgariff_data.vocab.token2id[start_token]).unsqueeze(0).unsqueeze(0).to(device)\n",
        "\n",
        "    sentence = [start_token]\n",
        "    i = 0\n",
        "    while i < max_len and sentence[-1] not in ['</s>', '<pad>']:\n",
        "        i += 1\n",
        "        \n",
        "        embedded = model.embedding(inputs)\n",
        "        output, hidden_state = model.gru(embedded, hidden_state)\n",
        "\n",
        "        batch_size, sequence_len, hidden_size = output.shape\n",
        "        output = output.contiguous().view(batch_size * sequence_len, hidden_size)    \n",
        "        output = model.classifier(output).view(batch_size, sequence_len, -1).squeeze(0)\n",
        "        #_, prediction = torch.max(F.softmax(output, dim=2), dim=2)\n",
        "        \n",
        "        word_weights = output.div(temperature).exp().cpu()\n",
        "        if len(word_weights.shape) > 1:\n",
        "            word_weights = word_weights[-1] # Pick the last word.    \n",
        "        word_idx = torch.multinomial(word_weights, 1).view(-1)\n",
        "        \n",
        "        sentence.append(kilgariff_data.vocab[int(word_idx)])\n",
        "        \n",
        "        inputs = tensor([kilgariff_data.vocab.token2id[word] for word in sentence]).unsqueeze(0).to(device)\n",
        "    print(' '.join(sentence))"
      ],
      "execution_count": 0,
      "outputs": []
    },
    {
      "cell_type": "code",
      "metadata": {
        "id": "N7wA6Zu5hgN-",
        "colab_type": "code",
        "colab": {
          "base_uri": "https://localhost:8080/",
          "height": 485
        },
        "outputId": "04f85592-dca7-4a95-f0b8-763ae794fd8d"
      },
      "source": [
        "hyperparams = Hyperparams(embed_size=250, hidden_size=250, num_layers=1,\n",
        "                          loss_func=nn.CrossEntropyLoss,\n",
        "                          learning_rate=0.03, optimizer=optim.Adam, batch_size=250)\n",
        "\n",
        "dataloader, model, optimizer, criterion = initialize_data_model_optim_loss(hyperparams)\n",
        "\n",
        "train(100, dataloader, model, criterion, optimizer)"
      ],
      "execution_count": 21,
      "outputs": [
        {
          "output_type": "display_data",
          "data": {
            "image/png": "[encoded data removed]",
            "text/plain": [
              "<Figure size 864x576 with 1 Axes>"
            ]
          },
          "metadata": {
            "tags": []
          }
        }
      ]
    },
    {
      "cell_type": "code",
      "metadata": {
        "id": "MXF4majHhmMF",
        "colab_type": "code",
        "colab": {
          "base_uri": "https://localhost:8080/",
          "height": 207
        },
        "outputId": "4808a6f3-f0df-4105-baa0-1d73c4fda9fe"
      },
      "source": [
        "for _ in range(10):\n",
        "    generate_example(model)"
      ],
      "execution_count": 22,
      "outputs": [
        {
          "output_type": "stream",
          "text": [
            "<s> however this does not factor in the arbitrariness of the word occurring at all in the corpus : in a corpus ten times the size , there would be roughly ten times the number of singletons and doubletons in the corpus , most of which would not have occurred at all in the original corpus . </s>\n",
            "<s> language is never , ever , ever , random adam kilgarriff abstract language users never choose words randomly , and language is essentially non-random . </s>\n",
            "<s> if the likelihood is low , we reject h0. the problem for empirical linguistics is that language is not random , so the null hypothesis is never true . </s>\n",
            "<s> polytech publishers. pedersen , ted 1996 fishing for exactness . </s>\n",
            "<s> harlow : longman. leech , geoffrey and roger fallon 1992 computer corpora — what do they tell us about culture ? </s>\n",
            "<s> we do not always have enough data to reject the null hypothesis , but that is a distinct issue : wherever there is enough data , it is rejected . </s>\n",
            "<s> biometrika 40 , 237⫺264. grefenstette , gregory and julien nioche 2000 estimation of english and non-english language use on the www . </s>\n",
            "<s> rather , the objection is that the probability model , with its assumptions of randomness , is inappropriate , particularly where counts are high ( eg , thousands or more ) . where the task is to determine whether there is an interesting associa- tion between two rare events , dunning ’ s concern must be heeded . </s>\n",
            "<s> however , problems are noted : further evaluation of the results ... reveals that the filtering phase is the weak link in the system … the performance of the filter for classes with less than 10 exemplars is around chance , and a simple heuristic of accepting all classes with more then 10 exemplars would have pro- duced broadly similar results for these verbs ( briscoe and carroll 1997 : 360⫺36 ) . korhonen , correll , and mccarthy ( 2000 ) explore the issue in detail. using briscoe and carroll ’ s scf acquisition system , they explore the\n",
            "<s> one statistics textbook warns thus : none of the null hypotheses we have considered with respect to good- ness of fit can be exactly true , so if we increase the sample size ( and hence the value of χ2 ) we would ultimately reach the point when all null hypotheses would be rejected . </s>\n"
          ],
          "name": "stdout"
        }
      ]
    },
    {
      "cell_type": "code",
      "metadata": {
        "id": "ln7AA2r7h9IF",
        "colab_type": "code",
        "colab": {}
      },
      "source": [
        "import json\n",
        "torch.save(model.state_dict(), 'gru-model.pth')\n",
        "\n",
        "hyperparams_str = Hyperparams(embed_size=250, hidden_size=250, num_layers=1,\n",
        "                          loss_func='nn.CrossEntropyLoss',\n",
        "                          learning_rate=0.03, optimizer='optim.Adam', batch_size=250)\n",
        "\n",
        "with open('gru-model.json', 'w') as fout:\n",
        "    json.dump(dict(hyperparams_str._asdict()), fout)"
      ],
      "execution_count": 0,
      "outputs": []
    },
    {
      "cell_type": "code",
      "metadata": {
        "id": "11TRs3uCiNRC",
        "colab_type": "code",
        "colab": {}
      },
      "source": [
        ""
      ],
      "execution_count": 0,
      "outputs": []
    }
  ]
}