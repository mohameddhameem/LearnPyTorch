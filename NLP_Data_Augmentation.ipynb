{
  "nbformat": 4,
  "nbformat_minor": 0,
  "metadata": {
    "colab": {
      "name": "NLP Data Augmentation.ipynb",
      "provenance": [],
      "authorship_tag": "ABX9TyNgBnaV6EftL9/Db0zERE9Y",
      "include_colab_link": true
    },
    "kernelspec": {
      "name": "python3",
      "display_name": "Python 3"
    },
    "accelerator": "GPU"
  },
  "cells": [
    {
      "cell_type": "markdown",
      "metadata": {
        "id": "view-in-github",
        "colab_type": "text"
      },
      "source": [
        "<a href=\"https://colab.research.google.com/github/mohameddhameem/NLPWithPyTorch/blob/master/NLP_Data_Augmentation.ipynb\" target=\"_parent\"><img src=\"https://colab.research.google.com/assets/colab-badge.svg\" alt=\"Open In Colab\"/></a>"
      ]
    },
    {
      "cell_type": "markdown",
      "metadata": {
        "id": "V-w-YohWHufE",
        "colab_type": "text"
      },
      "source": [
        "# NLP Data Augmentation with nlpaug"
      ]
    },
    {
      "cell_type": "code",
      "metadata": {
        "id": "Wzvm4p6BHn18",
        "colab_type": "code",
        "colab": {
          "base_uri": "https://localhost:8080/",
          "height": 292
        },
        "outputId": "ad630acb-c60d-4b4b-fbe0-af1690f3a999"
      },
      "source": [
        "!pip install nlpaug numpy matplotlib python-dotenv"
      ],
      "execution_count": 1,
      "outputs": [
        {
          "output_type": "stream",
          "text": [
            "Collecting nlpaug\n",
            "\u001b[?25l  Downloading https://files.pythonhosted.org/packages/e9/6d/47d8f50378b0b1edca8f98dc1628420870e076b685214409c6c88caced64/nlpaug-0.0.13.3-py3-none-any.whl (96kB)\n",
            "\r\u001b[K     |███▍                            | 10kB 30.7MB/s eta 0:00:01\r\u001b[K     |██████▉                         | 20kB 30.4MB/s eta 0:00:01\r\u001b[K     |██████████▏                     | 30kB 35.8MB/s eta 0:00:01\r\u001b[K     |█████████████▋                  | 40kB 39.3MB/s eta 0:00:01\r\u001b[K     |█████████████████               | 51kB 28.7MB/s eta 0:00:01\r\u001b[K     |████████████████████▍           | 61kB 31.7MB/s eta 0:00:01\r\u001b[K     |███████████████████████▉        | 71kB 25.3MB/s eta 0:00:01\r\u001b[K     |███████████████████████████▎    | 81kB 26.8MB/s eta 0:00:01\r\u001b[K     |██████████████████████████████▋ | 92kB 28.6MB/s eta 0:00:01\r\u001b[K     |████████████████████████████████| 102kB 12.0MB/s \n",
            "\u001b[?25hRequirement already satisfied: numpy in /usr/local/lib/python3.6/dist-packages (1.18.2)\n",
            "Requirement already satisfied: matplotlib in /usr/local/lib/python3.6/dist-packages (3.2.1)\n",
            "Collecting python-dotenv\n",
            "  Downloading https://files.pythonhosted.org/packages/7f/ee/e0cd2d8ba548e4c3e8c9e70d76e423b3e8b8e4eec351f51292d828c735d2/python_dotenv-0.12.0-py2.py3-none-any.whl\n",
            "Requirement already satisfied: python-dateutil>=2.1 in /usr/local/lib/python3.6/dist-packages (from matplotlib) (2.8.1)\n",
            "Requirement already satisfied: cycler>=0.10 in /usr/local/lib/python3.6/dist-packages (from matplotlib) (0.10.0)\n",
            "Requirement already satisfied: kiwisolver>=1.0.1 in /usr/local/lib/python3.6/dist-packages (from matplotlib) (1.1.0)\n",
            "Requirement already satisfied: pyparsing!=2.0.4,!=2.1.2,!=2.1.6,>=2.0.1 in /usr/local/lib/python3.6/dist-packages (from matplotlib) (2.4.6)\n",
            "Requirement already satisfied: six>=1.5 in /usr/local/lib/python3.6/dist-packages (from python-dateutil>=2.1->matplotlib) (1.12.0)\n",
            "Requirement already satisfied: setuptools in /usr/local/lib/python3.6/dist-packages (from kiwisolver>=1.0.1->matplotlib) (46.0.0)\n",
            "Installing collected packages: nlpaug, python-dotenv\n",
            "Successfully installed nlpaug-0.0.13.3 python-dotenv-0.12.0\n"
          ],
          "name": "stdout"
        }
      ]
    },
    {
      "cell_type": "code",
      "metadata": {
        "id": "1oq1xgbSHzmr",
        "colab_type": "code",
        "colab": {}
      },
      "source": [
        "!pip install torch>=1.2.0 transformers>=2.5.0"
      ],
      "execution_count": 0,
      "outputs": []
    },
    {
      "cell_type": "code",
      "metadata": {
        "id": "5HNQ0g60H9s4",
        "colab_type": "code",
        "colab": {}
      },
      "source": [
        "!pip install nltk>=3.4.5"
      ],
      "execution_count": 0,
      "outputs": []
    },
    {
      "cell_type": "code",
      "metadata": {
        "id": "pRF1y2PrH_wP",
        "colab_type": "code",
        "colab": {}
      },
      "source": [
        "from nlpaug.util.file.download import DownloadUtil\n",
        "DownloadUtil.download_word2vec(dest_dir='.') # Download word2vec model\n",
        "DownloadUtil.download_glove(model_name='glove.6B', dest_dir='.') # Download GloVe model\n",
        "DownloadUtil.download_fasttext(model_name='wiki-news-300d-1M', dest_dir='.') # Download fasttext model"
      ],
      "execution_count": 0,
      "outputs": []
    },
    {
      "cell_type": "code",
      "metadata": {
        "id": "TbA-nJydIWr-",
        "colab_type": "code",
        "colab": {}
      },
      "source": [
        ""
      ],
      "execution_count": 0,
      "outputs": []
    }
  ]
}