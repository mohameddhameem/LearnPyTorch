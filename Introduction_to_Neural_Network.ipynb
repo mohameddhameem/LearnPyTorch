{
  "nbformat": 4,
  "nbformat_minor": 0,
  "metadata": {
    "colab": {
      "name": "Introduction to Neural Network.ipynb",
      "provenance": [],
      "authorship_tag": "ABX9TyOvTUIFK4hl3T9SNH16Q9dD",
      "include_colab_link": true
    },
    "kernelspec": {
      "name": "python3",
      "display_name": "Python 3"
    }
  },
  "cells": [
    {
      "cell_type": "markdown",
      "metadata": {
        "id": "view-in-github",
        "colab_type": "text"
      },
      "source": [
        "<a href=\"https://colab.research.google.com/github/mohameddhameem/LearnPyTorch/blob/master/Introduction_to_Neural_Network.ipynb\" target=\"_parent\"><img src=\"https://colab.research.google.com/assets/colab-badge.svg\" alt=\"Open In Colab\"/></a>"
      ]
    },
    {
      "cell_type": "markdown",
      "metadata": {
        "id": "YVS_9SKYwSCq",
        "colab_type": "text"
      },
      "source": [
        "#Introduction to Neural Network with PyTorch"
      ]
    },
    {
      "cell_type": "markdown",
      "metadata": {
        "id": "-67y9sgUyA9n",
        "colab_type": "text"
      },
      "source": [
        "##We will start with very basic - Perceptron\n",
        "\n",
        "---\n",
        "\"system that depends on probabilistic rather than deterministic principles for its operation, gains its reliability from the properties of statistical measurements obtain from a large population of elements\" - Frank Rosenblatt (1957)\n",
        "\n"
      ]
    },
    {
      "cell_type": "code",
      "metadata": {
        "id": "RJnz_b8AwLts",
        "colab_type": "code",
        "colab": {
          "base_uri": "https://localhost:8080/",
          "height": 345
        },
        "outputId": "84b8cbe6-bd91-4cef-9f6e-b664789fc8a4"
      },
      "source": [
        "from IPython.display import Image\n",
        "from IPython.core.display import HTML\n",
        "from tqdm import tqdm\n",
        "\n",
        "from IPython.display import clear_output\n",
        "Image(url=\"https://ibin.co/4TyMU8AdpV4J.png\", width=500)"
      ],
      "execution_count": 69,
      "outputs": [
        {
          "output_type": "execute_result",
          "data": {
            "text/html": [
              "<img src=\"https://ibin.co/4TyMU8AdpV4J.png\" width=\"500\"/>"
            ],
            "text/plain": [
              "<IPython.core.display.Image object>"
            ]
          },
          "metadata": {
            "tags": []
          },
          "execution_count": 69
        }
      ]
    },
    {
      "cell_type": "code",
      "metadata": {
        "id": "RLdj5Tdnyu9X",
        "colab_type": "code",
        "colab": {
          "base_uri": "https://localhost:8080/",
          "height": 373
        },
        "outputId": "94bab3f0-82f2-4a94-f32e-8465c81487ee"
      },
      "source": [
        "Image(url=\"https://svgshare.com/i/AbJ.svg\", width=500)"
      ],
      "execution_count": 70,
      "outputs": [
        {
          "output_type": "execute_result",
          "data": {
            "text/html": [
              "<img src=\"https://svgshare.com/i/AbJ.svg\" width=\"500\"/>"
            ],
            "text/plain": [
              "<IPython.core.display.Image object>"
            ]
          },
          "metadata": {
            "tags": []
          },
          "execution_count": 70
        }
      ]
    },
    {
      "cell_type": "markdown",
      "metadata": {
        "id": "gITsMgaKzvAT",
        "colab_type": "text"
      },
      "source": [
        "Optimization Process\n",
        "====\n",
        "\n",
        "To learn the weights, $w$, we use an **optimizer** to find the best-fit (optimal) values for $w$ such that the inputs correct maps to the outputs.\n",
        "\n",
        "Typically, process performs the following 4 steps iteratively.\n",
        "\n",
        "### **Initialization**\n",
        "\n",
        " - **Step 1**: Initialize weights vector\n",
        " \n",
        "### **Forward Propagation**\n",
        "\n",
        " \n",
        " - **Step 2a**: Multiply the weights vector with the inputs, sum the products, i.e. `s`\n",
        " - **Step 2b**: Put the sum through the sigmoid, i.e. `f()`\n",
        " \n",
        "### **Back Propagation**\n",
        " \n",
        " \n",
        " - **Step 3a**: Compute the errors, i.e. difference between expected output and predictions\n",
        " - **Step 3b**: Multiply the error with the **derivatives** to get the delta\n",
        " - **Step 3c**: Multiply the delta vector with the inputs, sum the product\n",
        " \n",
        "### **Optimizer takes a step**\n",
        "\n",
        " - **Step 4**: Multiply the learning rate with the output of Step 3c."
      ]
    },
    {
      "cell_type": "code",
      "metadata": {
        "id": "MddVXO8JzBHz",
        "colab_type": "code",
        "colab": {}
      },
      "source": [
        "import math\n",
        "import numpy as np\n",
        "np.random.seed(0)"
      ],
      "execution_count": 0,
      "outputs": []
    },
    {
      "cell_type": "code",
      "metadata": {
        "id": "xUsUPTAp1qtX",
        "colab_type": "code",
        "colab": {}
      },
      "source": [
        "def sigmoid(x): # Returns values that sums to one.\n",
        "    return 1 / (1 + np.exp(-x))"
      ],
      "execution_count": 0,
      "outputs": []
    },
    {
      "cell_type": "markdown",
      "metadata": {
        "id": "MRRzllDX2LJf",
        "colab_type": "text"
      },
      "source": [
        "https://math.stackexchange.com/a/1225116"
      ]
    },
    {
      "cell_type": "code",
      "metadata": {
        "id": "KnUehwPH1vd-",
        "colab_type": "code",
        "colab": {}
      },
      "source": [
        "def sigmoid_derivative(sx): \n",
        "    return sx*(1-sx)"
      ],
      "execution_count": 0,
      "outputs": []
    },
    {
      "cell_type": "code",
      "metadata": {
        "id": "VQLiV9yE2f2c",
        "colab_type": "code",
        "colab": {
          "base_uri": "https://localhost:8080/",
          "height": 34
        },
        "outputId": "9fcb09e0-2cba-4dad-9613-e7e78537d062"
      },
      "source": [
        "sigmoid(np.array([2.5, 0.32, -1.42]))"
      ],
      "execution_count": 74,
      "outputs": [
        {
          "output_type": "execute_result",
          "data": {
            "text/plain": [
              "array([0.92414182, 0.57932425, 0.19466158])"
            ]
          },
          "metadata": {
            "tags": []
          },
          "execution_count": 74
        }
      ]
    },
    {
      "cell_type": "code",
      "metadata": {
        "id": "uqbRmjKq2qfy",
        "colab_type": "code",
        "colab": {
          "base_uri": "https://localhost:8080/",
          "height": 34
        },
        "outputId": "776bd039-88d6-412d-dba5-02361f6874ca"
      },
      "source": [
        "sigmoid_derivative(np.array([2.5, 0.32, -1.42]))"
      ],
      "execution_count": 75,
      "outputs": [
        {
          "output_type": "execute_result",
          "data": {
            "text/plain": [
              "array([-3.75  ,  0.2176, -3.4364])"
            ]
          },
          "metadata": {
            "tags": []
          },
          "execution_count": 75
        }
      ]
    },
    {
      "cell_type": "code",
      "metadata": {
        "id": "Jtt0qMpy28qc",
        "colab_type": "code",
        "colab": {}
      },
      "source": [
        "#Lets define our cost function\n",
        "def cost(predicted, truth):\n",
        "    return np.abs(truth - predicted)"
      ],
      "execution_count": 0,
      "outputs": []
    },
    {
      "cell_type": "code",
      "metadata": {
        "id": "UIrY3bey3KpU",
        "colab_type": "code",
        "colab": {
          "base_uri": "https://localhost:8080/",
          "height": 34
        },
        "outputId": "02e4fefb-ad95-4bf2-eda7-0b30f10eb8da"
      },
      "source": [
        "#test our cost function\n",
        "gold = np.array([0.5, 1.2, 9.8])\n",
        "pred = np.array([0.6, 1.0, 10.0])\n",
        "cost(pred, gold)"
      ],
      "execution_count": 77,
      "outputs": [
        {
          "output_type": "execute_result",
          "data": {
            "text/plain": [
              "array([0.1, 0.2, 0.2])"
            ]
          },
          "metadata": {
            "tags": []
          },
          "execution_count": 77
        }
      ]
    },
    {
      "cell_type": "code",
      "metadata": {
        "id": "cnGOo7ss3RLr",
        "colab_type": "code",
        "colab": {
          "base_uri": "https://localhost:8080/",
          "height": 34
        },
        "outputId": "08e7342c-6354-45b2-b692-6ddb89aeb97b"
      },
      "source": [
        "gold = np.array([0.5, 1.2, 9.8])\n",
        "pred = np.array([9.3, 4.0, 99.0])\n",
        "cost(pred, gold)"
      ],
      "execution_count": 78,
      "outputs": [
        {
          "output_type": "execute_result",
          "data": {
            "text/plain": [
              "array([ 8.8,  2.8, 89.2])"
            ]
          },
          "metadata": {
            "tags": []
          },
          "execution_count": 78
        }
      ]
    },
    {
      "cell_type": "markdown",
      "metadata": {
        "id": "cqNqDIjE37H5",
        "colab_type": "text"
      },
      "source": [
        "Representing OR Boolean\n",
        "---\n",
        "\n",
        "Lets consider the problem of the OR boolean and apply the perceptron with simple gradient descent. \n",
        "\n",
        "| x2 | x3 | y | \n",
        "|:--:|:--:|:--:|\n",
        "| 0 | 0 | 0 |\n",
        "| 0 | 1 | 1 | \n",
        "| 1 | 0 | 1 | \n",
        "| 1 | 1 | 1 | "
      ]
    },
    {
      "cell_type": "code",
      "metadata": {
        "id": "gkbq-Bel3TBB",
        "colab_type": "code",
        "colab": {}
      },
      "source": [
        "X = or_input = np.array([[0,0], [0,1], [1,0], [1,1]])\n",
        "Y = or_output = np.array([[0,1,1,1]]).T ## To transpose and Flat as single dimention array"
      ],
      "execution_count": 0,
      "outputs": []
    },
    {
      "cell_type": "code",
      "metadata": {
        "id": "gLoSUGQM4mE5",
        "colab_type": "code",
        "colab": {
          "base_uri": "https://localhost:8080/",
          "height": 85
        },
        "outputId": "a47ec03b-4cf6-44d7-ef98-da9537e867f0"
      },
      "source": [
        "or_input"
      ],
      "execution_count": 80,
      "outputs": [
        {
          "output_type": "execute_result",
          "data": {
            "text/plain": [
              "array([[0, 0],\n",
              "       [0, 1],\n",
              "       [1, 0],\n",
              "       [1, 1]])"
            ]
          },
          "metadata": {
            "tags": []
          },
          "execution_count": 80
        }
      ]
    },
    {
      "cell_type": "code",
      "metadata": {
        "id": "WzyG2Pu44n2n",
        "colab_type": "code",
        "colab": {
          "base_uri": "https://localhost:8080/",
          "height": 85
        },
        "outputId": "09c36c33-45c7-4fce-c32c-678c6b3731bf"
      },
      "source": [
        "or_output"
      ],
      "execution_count": 81,
      "outputs": [
        {
          "output_type": "execute_result",
          "data": {
            "text/plain": [
              "array([[0],\n",
              "       [1],\n",
              "       [1],\n",
              "       [1]])"
            ]
          },
          "metadata": {
            "tags": []
          },
          "execution_count": 81
        }
      ]
    },
    {
      "cell_type": "code",
      "metadata": {
        "id": "Mr__2VZz4p3P",
        "colab_type": "code",
        "colab": {}
      },
      "source": [
        "# Define the shape of the weight vector.\n",
        "num_data, input_dim = 4, 2\n",
        "# Define the shape of the output vector. \n",
        "output_dim = len(or_output.T)"
      ],
      "execution_count": 0,
      "outputs": []
    },
    {
      "cell_type": "code",
      "metadata": {
        "id": "f8QsX4jE5NIw",
        "colab_type": "code",
        "colab": {
          "base_uri": "https://localhost:8080/",
          "height": 170
        },
        "outputId": "544c84d6-94d3-49fe-9097-1bb92a4cdcb8"
      },
      "source": [
        "print('Inputs\\n======')\n",
        "print('no. of rows =', num_data) \n",
        "print('no. of cols =', input_dim)\n",
        "print('\\n')\n",
        "print('Outputs\\n=======')\n",
        "print('no. of cols =', output_dim)"
      ],
      "execution_count": 83,
      "outputs": [
        {
          "output_type": "stream",
          "text": [
            "Inputs\n",
            "======\n",
            "no. of rows = 4\n",
            "no. of cols = 2\n",
            "\n",
            "\n",
            "Outputs\n",
            "=======\n",
            "no. of cols = 1\n"
          ],
          "name": "stdout"
        }
      ]
    },
    {
      "cell_type": "code",
      "metadata": {
        "id": "seAssalr5SBX",
        "colab_type": "code",
        "colab": {
          "base_uri": "https://localhost:8080/",
          "height": 51
        },
        "outputId": "86e4c031-dff1-4829-c7b5-30656a22ac13"
      },
      "source": [
        "# Initialize weights between the input layers and the perceptron\n",
        "W = np.random.random((input_dim, output_dim)) # Some random numbers are fine\n",
        "W"
      ],
      "execution_count": 84,
      "outputs": [
        {
          "output_type": "execute_result",
          "data": {
            "text/plain": [
              "array([[0.5488135 ],\n",
              "       [0.71518937]])"
            ]
          },
          "metadata": {
            "tags": []
          },
          "execution_count": 84
        }
      ]
    },
    {
      "cell_type": "markdown",
      "metadata": {
        "id": "iseTtDdO6rIa",
        "colab_type": "text"
      },
      "source": [
        "Step 2a: Multiply the weights vector with the inputs, sum the products\n",
        "====\n",
        "\n",
        "To get the output of step 2a, \n",
        "\n",
        " - Itrate through each row of the data, `X`\n",
        " - For each column in each row, find the product of the value and the respective weights\n",
        " - For each row, compute the sum of the products"
      ]
    },
    {
      "cell_type": "code",
      "metadata": {
        "id": "yNq1YpGR5ffz",
        "colab_type": "code",
        "colab": {
          "base_uri": "https://localhost:8080/",
          "height": 85
        },
        "outputId": "02f92c64-08d6-497b-a53a-41697c2f91e3"
      },
      "source": [
        "# If we write it imperatively:\n",
        "summation = []\n",
        "for row in X:\n",
        "    sum_wx = 0\n",
        "    for feature, weight in zip(row, W):\n",
        "        sum_wx += feature * weight\n",
        "    summation.append(sum_wx)\n",
        "print(np.array(summation))"
      ],
      "execution_count": 85,
      "outputs": [
        {
          "output_type": "stream",
          "text": [
            "[[0.        ]\n",
            " [0.71518937]\n",
            " [0.5488135 ]\n",
            " [1.26400287]]\n"
          ],
          "name": "stdout"
        }
      ]
    },
    {
      "cell_type": "code",
      "metadata": {
        "id": "h8zYrOVL7WMA",
        "colab_type": "code",
        "colab": {
          "base_uri": "https://localhost:8080/",
          "height": 85
        },
        "outputId": "4c6f38fc-fd35-4f56-aa95-a2db3dbd2a58"
      },
      "source": [
        "#If we need to do very simple then below with numpy.\n",
        "np.dot(X, W)"
      ],
      "execution_count": 86,
      "outputs": [
        {
          "output_type": "execute_result",
          "data": {
            "text/plain": [
              "array([[0.        ],\n",
              "       [0.71518937],\n",
              "       [0.5488135 ],\n",
              "       [1.26400287]])"
            ]
          },
          "metadata": {
            "tags": []
          },
          "execution_count": 86
        }
      ]
    },
    {
      "cell_type": "markdown",
      "metadata": {
        "id": "n1184H1M8U-U",
        "colab_type": "text"
      },
      "source": [
        "Lets Train the Single-Layer Model\n",
        "===="
      ]
    },
    {
      "cell_type": "code",
      "metadata": {
        "id": "5rLed3JP71uR",
        "colab_type": "code",
        "colab": {
          "base_uri": "https://localhost:8080/",
          "height": 34
        },
        "outputId": "20f02e7f-c4bc-41b2-b674-885c00e4061a"
      },
      "source": [
        "num_epochs = 10000 # No. of times to iterate.\n",
        "learning_rate = 0.03 # How large a step to take per iteration.\n",
        "\n",
        "# Lets standardize and call our inputs X and outputs Y\n",
        "X = or_input\n",
        "Y = or_output\n",
        "\n",
        "for _ in tqdm(range(num_epochs)):\n",
        "    layer0 = X\n",
        "\n",
        "    # Step 2a: Multiply the weights vector with the inputs, sum the products, i.e. s\n",
        "    # Step 2b: Put the sum through the sigmoid, i.e. f()\n",
        "    # Inside the perceptron, Step 2. \n",
        "    layer1 = sigmoid(np.dot(X, W))\n",
        "\n",
        "    # Back propagation.\n",
        "    # Step 3a: Compute the errors, i.e. difference between expected output and predictions\n",
        "    # How much did we miss?\n",
        "    layer1_error = cost(layer1, Y)\n",
        "\n",
        "    # Step 3b: Multiply the error with the derivatives to get the delta\n",
        "    # multiply how much we missed by the slope of the sigmoid at the values in layer1\n",
        "    layer1_delta = layer1_error * sigmoid_derivative(layer1)\n",
        "\n",
        "    # Step 3c: Multiply the delta vector with the inputs, sum the product (use np.dot)\n",
        "    # Step 4: Multiply the learning rate with the output of Step 3c.\n",
        "    W +=  learning_rate * np.dot(layer0.T, layer1_delta)"
      ],
      "execution_count": 87,
      "outputs": [
        {
          "output_type": "stream",
          "text": [
            "100%|██████████| 10000/10000 [00:00<00:00, 42585.23it/s]\n"
          ],
          "name": "stderr"
        }
      ]
    },
    {
      "cell_type": "code",
      "metadata": {
        "id": "rOEHq5zL9rOm",
        "colab_type": "code",
        "colab": {
          "base_uri": "https://localhost:8080/",
          "height": 85
        },
        "outputId": "869b7971-349c-41ac-b28b-f592b30fd354"
      },
      "source": [
        "layer1"
      ],
      "execution_count": 88,
      "outputs": [
        {
          "output_type": "execute_result",
          "data": {
            "text/plain": [
              "array([[0.5       ],\n",
              "       [0.95643415],\n",
              "       [0.95623017],\n",
              "       [0.99791935]])"
            ]
          },
          "metadata": {
            "tags": []
          },
          "execution_count": 88
        }
      ]
    },
    {
      "cell_type": "code",
      "metadata": {
        "id": "9pBoHbQr-Sxr",
        "colab_type": "code",
        "colab": {
          "base_uri": "https://localhost:8080/",
          "height": 85
        },
        "outputId": "f2589e3a-0bfe-4d49-9c5d-c832d88d3fa4"
      },
      "source": [
        "# Expected output.\n",
        "Y"
      ],
      "execution_count": 89,
      "outputs": [
        {
          "output_type": "execute_result",
          "data": {
            "text/plain": [
              "array([[0],\n",
              "       [1],\n",
              "       [1],\n",
              "       [1]])"
            ]
          },
          "metadata": {
            "tags": []
          },
          "execution_count": 89
        }
      ]
    },
    {
      "cell_type": "code",
      "metadata": {
        "id": "_AEzcSnn-VgA",
        "colab_type": "code",
        "colab": {
          "base_uri": "https://localhost:8080/",
          "height": 34
        },
        "outputId": "3d5b9c20-cf70-4514-9c6c-5344f61aa448"
      },
      "source": [
        "# On the training data \n",
        "#For us we are setting a threshold of .5\n",
        "[[int(prediction > 0.5)] for prediction in layer1]"
      ],
      "execution_count": 90,
      "outputs": [
        {
          "output_type": "execute_result",
          "data": {
            "text/plain": [
              "[[0], [1], [1], [1]]"
            ]
          },
          "metadata": {
            "tags": []
          },
          "execution_count": 90
        }
      ]
    },
    {
      "cell_type": "code",
      "metadata": {
        "id": "RdUXAqwz-Z5M",
        "colab_type": "code",
        "colab": {
          "base_uri": "https://localhost:8080/",
          "height": 85
        },
        "outputId": "92d169b8-48fe-44f8-ea30-f06469e5f1ae"
      },
      "source": [
        "#Lets try to calcuate the cost\n",
        "predicted = [[int(prediction > 0.5)] for prediction in layer1]\n",
        "cost(predicted, Y) # In our case there is no cost at all"
      ],
      "execution_count": 91,
      "outputs": [
        {
          "output_type": "execute_result",
          "data": {
            "text/plain": [
              "array([[0],\n",
              "       [0],\n",
              "       [0],\n",
              "       [0]])"
            ]
          },
          "metadata": {
            "tags": []
          },
          "execution_count": 91
        }
      ]
    },
    {
      "cell_type": "markdown",
      "metadata": {
        "id": "GkpHFlpV_ilZ",
        "colab_type": "text"
      },
      "source": [
        "Lets try the XOR Boolean\n",
        "---\n",
        "\n",
        "Lets consider the problem of the OR boolean and apply the perceptron with simple gradient descent. \n",
        "\n",
        "| x2 | x3 | y | \n",
        "|:--:|:--:|:--:|\n",
        "| 0 | 0 | 0 |\n",
        "| 0 | 1 | 1 | \n",
        "| 1 | 0 | 1 | \n",
        "| 1 | 1 | 0 | "
      ]
    },
    {
      "cell_type": "code",
      "metadata": {
        "id": "PEGcuzBa_Zkn",
        "colab_type": "code",
        "colab": {}
      },
      "source": [
        "X = xor_input = np.array([[0,0], [0,1], [1,0], [1,1]])\n",
        "Y = xor_output = np.array([[0,1,1,0]]).T"
      ],
      "execution_count": 0,
      "outputs": []
    },
    {
      "cell_type": "code",
      "metadata": {
        "id": "e3_eWeBd_nXA",
        "colab_type": "code",
        "colab": {
          "base_uri": "https://localhost:8080/",
          "height": 85
        },
        "outputId": "71d5ca90-894b-4cac-9274-5e67b29d31eb"
      },
      "source": [
        "xor_input"
      ],
      "execution_count": 93,
      "outputs": [
        {
          "output_type": "execute_result",
          "data": {
            "text/plain": [
              "array([[0, 0],\n",
              "       [0, 1],\n",
              "       [1, 0],\n",
              "       [1, 1]])"
            ]
          },
          "metadata": {
            "tags": []
          },
          "execution_count": 93
        }
      ]
    },
    {
      "cell_type": "code",
      "metadata": {
        "id": "-H6P3EXK_ow4",
        "colab_type": "code",
        "colab": {
          "base_uri": "https://localhost:8080/",
          "height": 85
        },
        "outputId": "8508563d-13f5-4a2d-d2b7-1b61672f9b0c"
      },
      "source": [
        "xor_output"
      ],
      "execution_count": 94,
      "outputs": [
        {
          "output_type": "execute_result",
          "data": {
            "text/plain": [
              "array([[0],\n",
              "       [1],\n",
              "       [1],\n",
              "       [0]])"
            ]
          },
          "metadata": {
            "tags": []
          },
          "execution_count": 94
        }
      ]
    },
    {
      "cell_type": "code",
      "metadata": {
        "id": "oawYrhT2_qp4",
        "colab_type": "code",
        "colab": {
          "base_uri": "https://localhost:8080/",
          "height": 34
        },
        "outputId": "3adf0649-e7a1-4d94-9b2f-dc3d64f195a4"
      },
      "source": [
        "num_epochs = 10000000 # No. of times to iterate.\n",
        "learning_rate = 0.003 # How large a step to take per iteration.\n",
        "\n",
        "# Lets drop the last row of data and use that as unseen test.\n",
        "X = xor_input\n",
        "Y = xor_output\n",
        "\n",
        "# Define the shape of the weight vector.\n",
        "num_data, input_dim = 4, 2\n",
        "# Define the shape of the output vector. \n",
        "output_dim = len(Y.T)\n",
        "# Initialize weights between the input layers and the perceptron - Random\n",
        "W = np.random.random((input_dim, output_dim)) # Some random numbers are fine\n",
        "\n",
        "for _ in tqdm(range(num_epochs)):\n",
        "    layer0 = X\n",
        "    # Forward propagation.\n",
        "    # Inside the perceptron, Step 2. \n",
        "    layer1 = sigmoid(np.dot(X, W))\n",
        "\n",
        "    # How much did we miss?\n",
        "    layer1_error = cost(layer1, Y)\n",
        "\n",
        "    # Back propagation.\n",
        "    # multiply how much we missed by the slope of the sigmoid at the values in layer1\n",
        "    layer1_delta = layer1_error * sigmoid_derivative(layer1)\n",
        "\n",
        "    # update weights\n",
        "    W +=  learning_rate * np.dot(layer0.T, layer1_delta)"
      ],
      "execution_count": 95,
      "outputs": [
        {
          "output_type": "stream",
          "text": [
            "100%|██████████| 10000000/10000000 [03:22<00:00, 49496.38it/s]\n"
          ],
          "name": "stderr"
        }
      ]
    },
    {
      "cell_type": "code",
      "metadata": {
        "id": "9ZZ88ejfApLa",
        "colab_type": "code",
        "colab": {
          "base_uri": "https://localhost:8080/",
          "height": 85
        },
        "outputId": "1ccd7398-b38a-4b06-dabe-0de8ccbc0941"
      },
      "source": [
        "# Expected output.\n",
        "Y"
      ],
      "execution_count": 96,
      "outputs": [
        {
          "output_type": "execute_result",
          "data": {
            "text/plain": [
              "array([[0],\n",
              "       [1],\n",
              "       [1],\n",
              "       [0]])"
            ]
          },
          "metadata": {
            "tags": []
          },
          "execution_count": 96
        }
      ]
    },
    {
      "cell_type": "code",
      "metadata": {
        "id": "ZHLJhKlnAu32",
        "colab_type": "code",
        "colab": {
          "base_uri": "https://localhost:8080/",
          "height": 34
        },
        "outputId": "8256c365-d31c-418c-b7cc-4c9c9b133427"
      },
      "source": [
        "# On the training data \n",
        "#For us we are setting a threshold of .5\n",
        "[[int(prediction > 0.5)] for prediction in layer1]"
      ],
      "execution_count": 97,
      "outputs": [
        {
          "output_type": "execute_result",
          "data": {
            "text/plain": [
              "[[0], [1], [1], [1]]"
            ]
          },
          "metadata": {
            "tags": []
          },
          "execution_count": 97
        }
      ]
    },
    {
      "cell_type": "code",
      "metadata": {
        "id": "fu3S2-7_Ayus",
        "colab_type": "code",
        "colab": {
          "base_uri": "https://localhost:8080/",
          "height": 85
        },
        "outputId": "067703a8-bc41-4b8f-9c18-052c5befd3cd"
      },
      "source": [
        "predicted = [[int(prediction > 0.5)] for prediction in layer1]\n",
        "cost(predicted, Y) # Still One is wrong .. Go back to training and try to tune the parameters.."
      ],
      "execution_count": 98,
      "outputs": [
        {
          "output_type": "execute_result",
          "data": {
            "text/plain": [
              "array([[0],\n",
              "       [0],\n",
              "       [0],\n",
              "       [1]])"
            ]
          },
          "metadata": {
            "tags": []
          },
          "execution_count": 98
        }
      ]
    },
    {
      "cell_type": "markdown",
      "metadata": {
        "id": "E1xXjDnzCHiG",
        "colab_type": "text"
      },
      "source": [
        "You can't represent XOR with simple perceptron !!!\n",
        "====\n",
        "\n",
        "No matter how you change the hyperparameters or data, the XOR function can't be represented by a single perceptron layer.\n",
        " \n",
        "There's no way you can get all four data points to get the correct outputs for the XOR boolean operation.\n"
      ]
    },
    {
      "cell_type": "markdown",
      "metadata": {
        "id": "eR26KO1jCMSO",
        "colab_type": "text"
      },
      "source": [
        "Solving XOR (Add more layers)\n",
        "===="
      ]
    },
    {
      "cell_type": "code",
      "metadata": {
        "id": "zl3z6FabA3tW",
        "colab_type": "code",
        "colab": {
          "base_uri": "https://localhost:8080/",
          "height": 34
        },
        "outputId": "2481603a-0022-44a7-d512-d9c9e4875fed"
      },
      "source": [
        "from itertools import chain\n",
        "import numpy as np\n",
        "np.random.seed(0)\n",
        "\n",
        "def sigmoid(x): # Returns values that sums to one.\n",
        "    return 1 / (1 + np.exp(-x))\n",
        "\n",
        "def sigmoid_derivative(sx):\n",
        "    # See https://math.stackexchange.com/a/1225116\n",
        "    return sx * (1 - sx)\n",
        "\n",
        "# Cost functions.\n",
        "def cost(predicted, truth):\n",
        "    return truth - predicted\n",
        "\n",
        "xor_input = np.array([[0,0], [0,1], [1,0], [1,1]])\n",
        "xor_output = np.array([[0,1,1,0]]).T\n",
        "\n",
        "# Define the shape of the weight vector.\n",
        "num_data, input_dim = X.shape\n",
        "# Lets set the dimensions for the intermediate layer.\n",
        "hidden_dim = 5\n",
        "# Initialize weights between the input layers and the hidden layer.\n",
        "W1 = np.random.random((input_dim, hidden_dim))\n",
        "\n",
        "# Define the shape of the output vector. \n",
        "output_dim = len(Y.T)\n",
        "# Initialize weights between the hidden layers and the output layer.\n",
        "W2 = np.random.random((hidden_dim, output_dim)) ## To make it simple, last layer output is feed as input \n",
        "\n",
        "# Initialize weigh\n",
        "num_epochs = 10000\n",
        "learning_rate = 0.03\n",
        "\n",
        "for epoch_n in tqdm(range(num_epochs)):\n",
        "    layer0 = X\n",
        "    # Forward propagation.\n",
        "    \n",
        "    # Inside the perceptron, Step 2. \n",
        "    layer1 = sigmoid(np.dot(layer0, W1))\n",
        "    layer2 = sigmoid(np.dot(layer1, W2))\n",
        "\n",
        "    # Back propagation (Y -> layer2)\n",
        "    \n",
        "    # How much did we miss in the predictions?\n",
        "    layer2_error = cost(layer2, Y)\n",
        "    # In what direction is the target value?\n",
        "    # Were we really close? If so, don't change too much.\n",
        "    layer2_delta = layer2_error * sigmoid_derivative(layer2)\n",
        "\n",
        "    \n",
        "    # Back propagation (layer2 -> layer1)\n",
        "    # How much did each layer1 value contribute to the layer2 error (according to the weights)?\n",
        "    layer1_error = np.dot(layer2_delta, W2.T)\n",
        "    layer1_delta = layer1_error * sigmoid_derivative(layer1)\n",
        "    \n",
        "    # update weights\n",
        "    W2 +=  learning_rate * np.dot(layer1.T, layer2_delta)\n",
        "    W1 +=  learning_rate * np.dot(layer0.T, layer1_delta)\n",
        "    ##print(epoch_n, list((layer2)))"
      ],
      "execution_count": 99,
      "outputs": [
        {
          "output_type": "stream",
          "text": [
            "100%|██████████| 10000/10000 [00:00<00:00, 25447.34it/s]\n"
          ],
          "name": "stderr"
        }
      ]
    },
    {
      "cell_type": "code",
      "metadata": {
        "id": "0gVrqtRSDhA0",
        "colab_type": "code",
        "colab": {
          "base_uri": "https://localhost:8080/",
          "height": 85
        },
        "outputId": "9a8f343a-bc44-4065-aff6-623f5990be87"
      },
      "source": [
        "# Training input.\n",
        "X"
      ],
      "execution_count": 100,
      "outputs": [
        {
          "output_type": "execute_result",
          "data": {
            "text/plain": [
              "array([[0, 0],\n",
              "       [0, 1],\n",
              "       [1, 0],\n",
              "       [1, 1]])"
            ]
          },
          "metadata": {
            "tags": []
          },
          "execution_count": 100
        }
      ]
    },
    {
      "cell_type": "code",
      "metadata": {
        "id": "V35WTLs3Eec2",
        "colab_type": "code",
        "colab": {
          "base_uri": "https://localhost:8080/",
          "height": 85
        },
        "outputId": "179f0968-70b5-4036-f0a8-bf45657f24be"
      },
      "source": [
        "# Expected output.\n",
        "Y"
      ],
      "execution_count": 101,
      "outputs": [
        {
          "output_type": "execute_result",
          "data": {
            "text/plain": [
              "array([[0],\n",
              "       [1],\n",
              "       [1],\n",
              "       [0]])"
            ]
          },
          "metadata": {
            "tags": []
          },
          "execution_count": 101
        }
      ]
    },
    {
      "cell_type": "code",
      "metadata": {
        "id": "GPAc-zFrEuJ_",
        "colab_type": "code",
        "colab": {
          "base_uri": "https://localhost:8080/",
          "height": 85
        },
        "outputId": "1910d8b6-a249-4362-ef92-b2cbd0936081"
      },
      "source": [
        "layer2 # Our output layer"
      ],
      "execution_count": 102,
      "outputs": [
        {
          "output_type": "execute_result",
          "data": {
            "text/plain": [
              "array([[0.31284349],\n",
              "       [0.6213127 ],\n",
              "       [0.62323891],\n",
              "       [0.46427804]])"
            ]
          },
          "metadata": {
            "tags": []
          },
          "execution_count": 102
        }
      ]
    },
    {
      "cell_type": "code",
      "metadata": {
        "id": "BQcivcC0Ex2-",
        "colab_type": "code",
        "colab": {
          "base_uri": "https://localhost:8080/",
          "height": 34
        },
        "outputId": "2ff4767e-1921-4588-a354-f117210f2a5c"
      },
      "source": [
        "# On the training data\n",
        "[int(prediction > 0.5) for prediction in layer2]"
      ],
      "execution_count": 103,
      "outputs": [
        {
          "output_type": "execute_result",
          "data": {
            "text/plain": [
              "[0, 1, 1, 0]"
            ]
          },
          "metadata": {
            "tags": []
          },
          "execution_count": 103
        }
      ]
    },
    {
      "cell_type": "markdown",
      "metadata": {
        "id": "UYa3zkC_FJQM",
        "colab_type": "text"
      },
      "source": [
        "Now try adding another layer\n",
        "====\n",
        "\n",
        "Use the same process:\n",
        "    \n",
        "  1. Initialize\n",
        "  2. Forward Propagate\n",
        "  3. Back Propagate \n",
        "  4. Update (aka step)"
      ]
    },
    {
      "cell_type": "code",
      "metadata": {
        "id": "p5uVu-cNE0xT",
        "colab_type": "code",
        "colab": {}
      },
      "source": [
        "from itertools import chain\n",
        "import numpy as np\n",
        "np.random.seed(0)\n",
        "\n",
        "def sigmoid(x): # Returns values that sums to one.\n",
        "    return 1 / (1 + np.exp(-x))\n",
        "\n",
        "def sigmoid_derivative(sx):\n",
        "    # See https://math.stackexchange.com/a/1225116\n",
        "    return sx * (1 - sx)\n",
        "\n",
        "# Cost functions.\n",
        "def cost(predicted, truth):\n",
        "    return truth - predicted\n",
        "\n",
        "xor_input = np.array([[0,0], [0,1], [1,0], [1,1]])\n",
        "xor_output = np.array([[0,1,1,0]]).T"
      ],
      "execution_count": 0,
      "outputs": []
    },
    {
      "cell_type": "code",
      "metadata": {
        "id": "ftBkx6mMFdUS",
        "colab_type": "code",
        "colab": {
          "base_uri": "https://localhost:8080/",
          "height": 85
        },
        "outputId": "fee60c25-2038-42b5-e126-cde69ab685eb"
      },
      "source": [
        "#Input\n",
        "X"
      ],
      "execution_count": 105,
      "outputs": [
        {
          "output_type": "execute_result",
          "data": {
            "text/plain": [
              "array([[0, 0],\n",
              "       [0, 1],\n",
              "       [1, 0],\n",
              "       [1, 1]])"
            ]
          },
          "metadata": {
            "tags": []
          },
          "execution_count": 105
        }
      ]
    },
    {
      "cell_type": "code",
      "metadata": {
        "id": "tqPxlD4oFfw_",
        "colab_type": "code",
        "colab": {
          "base_uri": "https://localhost:8080/",
          "height": 85
        },
        "outputId": "529acb36-9ee4-4b2e-f57d-4ddb756b9417"
      },
      "source": [
        "#Output\n",
        "Y"
      ],
      "execution_count": 106,
      "outputs": [
        {
          "output_type": "execute_result",
          "data": {
            "text/plain": [
              "array([[0],\n",
              "       [1],\n",
              "       [1],\n",
              "       [0]])"
            ]
          },
          "metadata": {
            "tags": []
          },
          "execution_count": 106
        }
      ]
    },
    {
      "cell_type": "code",
      "metadata": {
        "id": "6VndIpF5FhfI",
        "colab_type": "code",
        "colab": {
          "base_uri": "https://localhost:8080/",
          "height": 34
        },
        "outputId": "a9b91ea0-be37-4ca2-d703-78c6be2da564"
      },
      "source": [
        "# Define the shape of the weight vector.\n",
        "num_data, input_dim = X.shape\n",
        "# Lets set the dimensions for the intermediate layer.\n",
        "layer0to1_hidden_dim = 5\n",
        "layer1to2_hidden_dim = 5\n",
        "\n",
        "# Initialize weights between the input layers 0 ->  layer 1\n",
        "W1 = np.random.random((input_dim, layer0to1_hidden_dim))\n",
        "\n",
        "# Initialize weights between the layer 1 -> layer 2\n",
        "W2 = np.random.random((layer0to1_hidden_dim, layer1to2_hidden_dim))\n",
        "\n",
        "# Define the shape of the output vector. \n",
        "output_dim = len(Y.T)\n",
        "# Initialize weights between the layer 2 -> layer 3\n",
        "W3 = np.random.random((layer1to2_hidden_dim, output_dim))\n",
        "\n",
        "# Initialize weigh\n",
        "num_epochs = 100000\n",
        "learning_rate = 0.001\n",
        "\n",
        "for epoch_n in tqdm(range(num_epochs)):\n",
        "    layer0 = X\n",
        "    # Forward propagation.\n",
        "    \n",
        "    # Inside the perceptron, Step 2. \n",
        "    layer1 = sigmoid(np.dot(layer0, W1))\n",
        "    layer2 = sigmoid(np.dot(layer1, W2))\n",
        "    layer3 = sigmoid(np.dot(layer2, W3))\n",
        "\n",
        "    # Back propagation (Y -> layer2)\n",
        "    # How much did we miss in the predictions?\n",
        "    layer3_error = cost(layer3, Y)\n",
        "    # In what direction is the target value?\n",
        "    # Were we really close? If so, don't change too much.\n",
        "    layer3_delta = layer3_error * sigmoid_derivative(layer3)\n",
        "\n",
        "    # Back propagation (layer2 -> layer1)\n",
        "    # How much did each layer1 value contribute to the layer3 error (according to the weights)?\n",
        "    layer2_error = np.dot(layer3_delta, W3.T)\n",
        "    layer2_delta = layer3_error * sigmoid_derivative(layer2)\n",
        "    \n",
        "    # Back propagation (layer2 -> layer1)\n",
        "    # How much did each layer1 value contribute to the layer2 error (according to the weights)?\n",
        "    layer1_error = np.dot(layer2_delta, W2.T)\n",
        "    layer1_delta = layer1_error * sigmoid_derivative(layer1)\n",
        "    \n",
        "    # update weights\n",
        "    W3 +=  learning_rate * np.dot(layer2.T, layer3_delta)\n",
        "    W2 +=  learning_rate * np.dot(layer1.T, layer2_delta)\n",
        "    W1 +=  learning_rate * np.dot(layer0.T, layer1_delta)"
      ],
      "execution_count": 112,
      "outputs": [
        {
          "output_type": "stream",
          "text": [
            "100%|██████████| 100000/100000 [00:05<00:00, 17234.57it/s]\n"
          ],
          "name": "stderr"
        }
      ]
    },
    {
      "cell_type": "code",
      "metadata": {
        "id": "FnzNOUU_IIEF",
        "colab_type": "code",
        "colab": {
          "base_uri": "https://localhost:8080/",
          "height": 85
        },
        "outputId": "109257fe-ab97-4a0b-9145-f5b1f1be1098"
      },
      "source": [
        "Y"
      ],
      "execution_count": 113,
      "outputs": [
        {
          "output_type": "execute_result",
          "data": {
            "text/plain": [
              "array([[0],\n",
              "       [1],\n",
              "       [1],\n",
              "       [0]])"
            ]
          },
          "metadata": {
            "tags": []
          },
          "execution_count": 113
        }
      ]
    },
    {
      "cell_type": "code",
      "metadata": {
        "id": "zr735QrAIMT0",
        "colab_type": "code",
        "colab": {
          "base_uri": "https://localhost:8080/",
          "height": 85
        },
        "outputId": "70c17ac3-5dae-4cda-a8c6-9d5dbcae2f49"
      },
      "source": [
        "layer3"
      ],
      "execution_count": 114,
      "outputs": [
        {
          "output_type": "execute_result",
          "data": {
            "text/plain": [
              "array([[0.52868989],\n",
              "       [0.54217557],\n",
              "       [0.54040728],\n",
              "       [0.53694543]])"
            ]
          },
          "metadata": {
            "tags": []
          },
          "execution_count": 114
        }
      ]
    },
    {
      "cell_type": "code",
      "metadata": {
        "id": "3UZkC96QIN1q",
        "colab_type": "code",
        "colab": {
          "base_uri": "https://localhost:8080/",
          "height": 34
        },
        "outputId": "385fc10d-fb62-4fa4-cbce-059c8cfec412"
      },
      "source": [
        "# On the training data\n",
        "prediction_output = [int(prediction > 0.5) for prediction in layer3]\n",
        "prediction_output"
      ],
      "execution_count": 115,
      "outputs": [
        {
          "output_type": "execute_result",
          "data": {
            "text/plain": [
              "[1, 1, 1, 1]"
            ]
          },
          "metadata": {
            "tags": []
          },
          "execution_count": 115
        }
      ]
    },
    {
      "cell_type": "code",
      "metadata": {
        "id": "sAOjgklkIksh",
        "colab_type": "code",
        "colab": {}
      },
      "source": [
        ""
      ],
      "execution_count": 0,
      "outputs": []
    }
  ]
}