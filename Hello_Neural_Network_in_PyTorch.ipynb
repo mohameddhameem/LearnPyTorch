{
  "nbformat": 4,
  "nbformat_minor": 0,
  "metadata": {
    "colab": {
      "name": "Hello Neural Network in PyTorch.ipynb",
      "provenance": [],
      "authorship_tag": "ABX9TyPboyAkar8kCX367S1tFxpI",
      "include_colab_link": true
    },
    "kernelspec": {
      "name": "python3",
      "display_name": "Python 3"
    },
    "accelerator": "GPU"
  },
  "cells": [
    {
      "cell_type": "markdown",
      "metadata": {
        "id": "view-in-github",
        "colab_type": "text"
      },
      "source": [
        "<a href=\"https://colab.research.google.com/github/mohameddhameem/LearnPyTorch/blob/master/Hello_Neural_Network_in_PyTorch.ipynb\" target=\"_parent\"><img src=\"https://colab.research.google.com/assets/colab-badge.svg\" alt=\"Open In Colab\"/></a>"
      ]
    },
    {
      "cell_type": "markdown",
      "metadata": {
        "id": "eDeEql9afCgD",
        "colab_type": "text"
      },
      "source": [
        "#Solve XOR with Neural Network PyTorch \n",
        "\n",
        "First lets try a single perceptron and see that we can't train a model that can represent XOR. "
      ]
    },
    {
      "cell_type": "code",
      "metadata": {
        "id": "8xCdTJzjg0ii",
        "colab_type": "code",
        "colab": {}
      },
      "source": [
        "from tqdm import tqdm\n",
        "from IPython.display import clear_output\n",
        "import torch\n",
        "from torch import nn\n",
        "from torch.autograd import Variable\n",
        "from torch import FloatTensor\n",
        "from torch import optim\n",
        "use_cuda = torch.cuda.is_available() # if you are running in Colab - enable GPU : Runtime > Change Runtime type"
      ],
      "execution_count": 0,
      "outputs": []
    },
    {
      "cell_type": "code",
      "metadata": {
        "id": "CldGZj_kh4uD",
        "colab_type": "code",
        "outputId": "1475b37f-0e8a-4321-dbaa-c2bbb0b485e1",
        "colab": {
          "base_uri": "https://localhost:8080/",
          "height": 34
        }
      },
      "source": [
        "use_cuda"
      ],
      "execution_count": 0,
      "outputs": [
        {
          "output_type": "execute_result",
          "data": {
            "text/plain": [
              "True"
            ]
          },
          "metadata": {
            "tags": []
          },
          "execution_count": 9
        }
      ]
    },
    {
      "cell_type": "code",
      "metadata": {
        "id": "EnE5LO70L25L",
        "colab_type": "code",
        "colab": {}
      },
      "source": [
        "import matplotlib.pyplot as plt\n",
        "import numpy as np\n",
        "import seaborn as sns\n",
        "\n",
        "sns.set_style(\"darkgrid\")\n",
        "sns.set(rc={'figure.figsize':(15, 10)})"
      ],
      "execution_count": 0,
      "outputs": []
    },
    {
      "cell_type": "code",
      "metadata": {
        "id": "kyZOdFBAL75E",
        "colab_type": "code",
        "outputId": "fc58fb9b-ebdd-4aea-d08d-3f5a3012a431",
        "colab": {
          "base_uri": "https://localhost:8080/",
          "height": 153
        }
      },
      "source": [
        "xor_input = np.array([[0,0], [0,1], [1,0], [1,1]])\n",
        "xor_output = np.array([[0,1,1,0]]).T\n",
        "print(\"Input X\", xor_input)\n",
        "print(\"Output Y\", xor_output)"
      ],
      "execution_count": 0,
      "outputs": [
        {
          "output_type": "stream",
          "text": [
            "Input X [[0 0]\n",
            " [0 1]\n",
            " [1 0]\n",
            " [1 1]]\n",
            "Output Y [[0]\n",
            " [1]\n",
            " [1]\n",
            " [0]]\n"
          ],
          "name": "stdout"
        }
      ]
    },
    {
      "cell_type": "code",
      "metadata": {
        "id": "vGU7a4_fMLd1",
        "colab_type": "code",
        "outputId": "4a1d5b58-a71c-4e1b-f5b5-de75f7b356bd",
        "colab": {
          "base_uri": "https://localhost:8080/",
          "height": 187
        }
      },
      "source": [
        "device = 'cuda' if torch.cuda.is_available()  else 'cpu'\n",
        "# Converting the X to PyTorch-able data structure.\n",
        "X_pt = torch.tensor(xor_input).float()\n",
        "X_pt = X_pt.to(device)\n",
        "# Converting the Y to PyTorch-able data structure.\n",
        "Y_pt = torch.tensor(xor_output, requires_grad=False).float()\n",
        "Y_pt = Y_pt.to(device)\n",
        "print(X_pt)\n",
        "print(X_pt.device)\n",
        "print(Y_pt)\n",
        "print(Y_pt.device)"
      ],
      "execution_count": 0,
      "outputs": [
        {
          "output_type": "stream",
          "text": [
            "tensor([[0., 0.],\n",
            "        [0., 1.],\n",
            "        [1., 0.],\n",
            "        [1., 1.]], device='cuda:0')\n",
            "cuda:0\n",
            "tensor([[0.],\n",
            "        [1.],\n",
            "        [1.],\n",
            "        [0.]], device='cuda:0')\n",
            "cuda:0\n"
          ],
          "name": "stdout"
        }
      ]
    },
    {
      "cell_type": "code",
      "metadata": {
        "id": "ZZ_XwHh-MU0W",
        "colab_type": "code",
        "outputId": "8a1d283d-cf69-4bca-f55a-9ddec67f4117",
        "colab": {
          "base_uri": "https://localhost:8080/",
          "height": 51
        }
      },
      "source": [
        "# Use tensor.shape to get the shape of the matrix/tensor.\n",
        "num_data, input_dim = X_pt.shape\n",
        "print('Inputs Dim:', input_dim)\n",
        "\n",
        "num_data, output_dim = Y_pt.shape\n",
        "print('Output Dim:', output_dim)"
      ],
      "execution_count": 0,
      "outputs": [
        {
          "output_type": "stream",
          "text": [
            "Inputs Dim: 2\n",
            "Output Dim: 1\n"
          ],
          "name": "stdout"
        }
      ]
    },
    {
      "cell_type": "code",
      "metadata": {
        "id": "JCylz_m3M7Lz",
        "colab_type": "code",
        "outputId": "b844d4ba-3b3f-45af-92bd-81033acb86f7",
        "colab": {
          "base_uri": "https://localhost:8080/",
          "height": 85
        }
      },
      "source": [
        "# Use Sequential to define a simple feed-forward network.\n",
        "model = nn.Sequential(\n",
        "            nn.Linear(input_dim, output_dim), # Use nn.Linear to get our simple perceptron\n",
        "            nn.Sigmoid()                      # Use nn.Sigmoid to get our sigmoid non-linearity\n",
        "        )\n",
        "model"
      ],
      "execution_count": 0,
      "outputs": [
        {
          "output_type": "execute_result",
          "data": {
            "text/plain": [
              "Sequential(\n",
              "  (0): Linear(in_features=2, out_features=1, bias=True)\n",
              "  (1): Sigmoid()\n",
              ")"
            ]
          },
          "metadata": {
            "tags": []
          },
          "execution_count": 8
        }
      ]
    },
    {
      "cell_type": "code",
      "metadata": {
        "id": "hU7EC013M-Gq",
        "colab_type": "code",
        "colab": {}
      },
      "source": [
        "# Remember we define as: cost = truth - predicted\n",
        "# If we take the absolute of cost, i.e.: cost = |truth - predicted|\n",
        "# we get the L1 loss function. \n",
        "criterion = nn.L1Loss() \n",
        "learning_rate = 0.03"
      ],
      "execution_count": 0,
      "outputs": []
    },
    {
      "cell_type": "code",
      "metadata": {
        "id": "eeyZRnLeND99",
        "colab_type": "code",
        "colab": {}
      },
      "source": [
        "# The simple weights/parameters update processes we did before\n",
        "# is call the gradient descent. SGD is the sochastic variant of\n",
        "# gradient descent. \n",
        "optimizer = optim.SGD(model.parameters(), lr=learning_rate)"
      ],
      "execution_count": 0,
      "outputs": []
    },
    {
      "cell_type": "markdown",
      "metadata": {
        "id": "legT2FioNPWU",
        "colab_type": "text"
      },
      "source": [
        "(**Note**: Personal Learning, I strongely encourage you to go through the [University of Washington course of machine learning regression](https://www.coursera.org/learn/ml-regression) to better understand the fundamentals of (i) ***gradient***, (ii) ***loss*** and (iii) ***optimizer***. But given that you know how to code it, the process of more complex variants of gradient/loss computation and optimizer's step is easy to grasp)"
      ]
    },
    {
      "cell_type": "markdown",
      "metadata": {
        "id": "iTmCAgRhNhZZ",
        "colab_type": "text"
      },
      "source": [
        "# Training a PyTorch model\n",
        "\n",
        "To train a model using PyTorch, we simply iterate through the no. of epochs and imperatively state the computations we want to perform. \n",
        "\n",
        "## Remember the steps?\n",
        "\n",
        " 1. Initialize \n",
        " 2. Forward Propagation\n",
        " 3. Backward Propagation\n",
        " 4. Update Optimizer"
      ]
    },
    {
      "cell_type": "code",
      "metadata": {
        "id": "6BslMtnqNN0l",
        "colab_type": "code",
        "outputId": "2d3a3b02-a0f0-4d92-b0e5-a5f9717d347a",
        "colab": {
          "base_uri": "https://localhost:8080/",
          "height": 34
        }
      },
      "source": [
        "num_epochs = 100000\n",
        "# Step 1: Initialization. \n",
        "# Note: When using PyTorch a lot of the manual weights\n",
        "#       initialization is done automatically when we define\n",
        "#       the model (aka architecture)\n",
        "model = nn.Sequential(\n",
        "            nn.Linear(input_dim, output_dim), \n",
        "            nn.Sigmoid()).to(device)\n",
        "criterion = nn.MSELoss() \n",
        "learning_rate = 0.001\n",
        "optimizer = optim.SGD(model.parameters(), lr=learning_rate)\n",
        "\n",
        "losses = []\n",
        "\n",
        "for i in tqdm(range(num_epochs)):\n",
        "    # Reset the gradient after every epoch. \n",
        "    optimizer.zero_grad() \n",
        "    # Step 2: Foward Propagation\n",
        "    predictions = model(X_pt).to(device)\n",
        "    \n",
        "    # Step 3: Back Propagation \n",
        "    # Calculate the cost between the predictions and the truth.\n",
        "    loss_this_epoch = criterion(predictions, Y_pt)\n",
        "    # Note: The neat thing about PyTorch is it does the \n",
        "    #       auto-gradient computation, no more manually defining\n",
        "    #       derivative of functions and manually propagating\n",
        "    #       the errors layer by layer.\n",
        "    loss_this_epoch.backward()\n",
        "    \n",
        "    # Step 4: Optimizer take a step. \n",
        "    # Note: Previously, we have to manually update the \n",
        "    #       weights of each layer individually according to the\n",
        "    #       learning rate and the layer delta. \n",
        "    #       PyTorch does that automatically =)\n",
        "    optimizer.step()\n",
        "    \n",
        "    # Log the loss value as we proceed through the epochs.\n",
        "    losses.append(loss_this_epoch.data.item())"
      ],
      "execution_count": 0,
      "outputs": [
        {
          "output_type": "stream",
          "text": [
            "100%|██████████| 100000/100000 [00:52<00:00, 1915.87it/s]\n"
          ],
          "name": "stderr"
        }
      ]
    },
    {
      "cell_type": "code",
      "metadata": {
        "id": "HwRqb89XNw3V",
        "colab_type": "code",
        "outputId": "3eafbf71-ed00-45fb-d6fc-b1cc621108be",
        "colab": {
          "base_uri": "https://localhost:8080/",
          "height": 594
        }
      },
      "source": [
        "# Visualize the losses\n",
        "plt.plot(losses)\n",
        "plt.show()\n",
        "#Adjust the Learning rate and Epoch to see the difference in the graph"
      ],
      "execution_count": 0,
      "outputs": [
        {
          "output_type": "display_data",
          "data": {
            "image/png": "[encoded data removed]",
            "text/plain": [
              "<Figure size 1080x720 with 1 Axes>"
            ]
          },
          "metadata": {
            "tags": []
          }
        }
      ]
    },
    {
      "cell_type": "code",
      "metadata": {
        "id": "5f30dn8cPrwb",
        "colab_type": "code",
        "outputId": "1cbb8aee-7f16-4d18-d88b-8af1088319fd",
        "colab": {
          "base_uri": "https://localhost:8080/",
          "height": 289
        }
      },
      "source": [
        "for _x, _y in zip(X_pt, Y_pt):\n",
        "    prediction = model(_x)\n",
        "    print('Input:\\t', list(map(int, _x)))\n",
        "    print('Pred:\\t', int(prediction))\n",
        "    print('Ouput:\\t', int(_y))\n",
        "    print('######')"
      ],
      "execution_count": 0,
      "outputs": [
        {
          "output_type": "stream",
          "text": [
            "Input:\t [0, 0]\n",
            "Pred:\t 0\n",
            "Ouput:\t 0\n",
            "######\n",
            "Input:\t [0, 1]\n",
            "Pred:\t 0\n",
            "Ouput:\t 1\n",
            "######\n",
            "Input:\t [1, 0]\n",
            "Pred:\t 0\n",
            "Ouput:\t 1\n",
            "######\n",
            "Input:\t [1, 1]\n",
            "Pred:\t 0\n",
            "Ouput:\t 0\n",
            "######\n"
          ],
          "name": "stdout"
        }
      ]
    },
    {
      "cell_type": "markdown",
      "metadata": {
        "id": "sJmF4PCFQ2Qa",
        "colab_type": "text"
      },
      "source": [
        "Now, try again with 2 layers using PyTorch\n",
        "===="
      ]
    },
    {
      "cell_type": "code",
      "metadata": {
        "id": "EMMzmSbvQuYm",
        "colab_type": "code",
        "outputId": "def4be2f-20b6-494c-8fdc-ea6a25e21702",
        "colab": {
          "base_uri": "https://localhost:8080/",
          "height": 1000
        }
      },
      "source": [
        "%%time\n",
        "\n",
        "hidden_dim = 5\n",
        "num_data, input_dim = X_pt.shape\n",
        "num_data, output_dim = Y_pt.shape\n",
        "\n",
        "model_2layers = nn.Sequential(nn.Linear(input_dim, hidden_dim),\n",
        "                      nn.Sigmoid(), \n",
        "                      nn.Linear(hidden_dim, output_dim),\n",
        "                      nn.Sigmoid()).to(device)\n",
        "print(model_2layers)\n",
        "criterion = nn.MSELoss()\n",
        "learning_rate = 0.1\n",
        "optimizer = optim.SGD(model_2layers.parameters(), lr=learning_rate)\n",
        "num_epochs = 10000\n",
        "\n",
        "losses = []\n",
        "\n",
        "for _ in tqdm(range(num_epochs)):\n",
        "    optimizer.zero_grad()\n",
        "    predictions = model_2layers(X_pt).to(device)\n",
        "    loss_this_epoch = criterion(predictions, Y_pt)\n",
        "    loss_this_epoch.backward()\n",
        "    optimizer.step()\n",
        "    losses.append(loss_this_epoch.data.item())\n",
        "    #print([float(_pred) for _pred in predictions], list(map(int, Y_pt)), loss_this_epoch.data[0])\n",
        "    \n",
        "# Visualize the losses\n",
        "plt.plot(losses)\n",
        "plt.show()"
      ],
      "execution_count": 0,
      "outputs": [
        {
          "output_type": "stream",
          "text": [
            "\n",
            "  0%|          | 0/10000 [00:00<?, ?it/s]\u001b[A\n",
            "  1%|▏         | 130/10000 [00:00<00:07, 1299.40it/s]\u001b[A"
          ],
          "name": "stderr"
        },
        {
          "output_type": "stream",
          "text": [
            "Sequential(\n",
            "  (0): Linear(in_features=2, out_features=5, bias=True)\n",
            "  (1): Sigmoid()\n",
            "  (2): Linear(in_features=5, out_features=1, bias=True)\n",
            "  (3): Sigmoid()\n",
            ")\n"
          ],
          "name": "stdout"
        },
        {
          "output_type": "stream",
          "text": [
            "\n",
            "  3%|▎         | 259/10000 [00:00<00:07, 1293.88it/s]\u001b[A\n",
            "  4%|▍         | 380/10000 [00:00<00:07, 1264.11it/s]\u001b[A\n",
            "  5%|▍         | 497/10000 [00:00<00:07, 1232.41it/s]\u001b[A\n",
            "  6%|▋         | 639/10000 [00:00<00:07, 1280.74it/s]\u001b[A\n",
            "  8%|▊         | 768/10000 [00:00<00:07, 1282.72it/s]\u001b[A\n",
            "  9%|▉         | 898/10000 [00:00<00:07, 1285.57it/s]\u001b[A\n",
            " 10%|█         | 1017/10000 [00:00<00:07, 1243.99it/s]\u001b[A\n",
            " 12%|█▏        | 1153/10000 [00:00<00:06, 1274.50it/s]\u001b[A\n",
            " 13%|█▎        | 1280/10000 [00:01<00:06, 1272.97it/s]\u001b[A\n",
            " 14%|█▍        | 1413/10000 [00:01<00:06, 1282.04it/s]\u001b[A\n",
            " 16%|█▌        | 1552/10000 [00:01<00:06, 1311.69it/s]\u001b[A\n",
            " 17%|█▋        | 1689/10000 [00:01<00:06, 1324.04it/s]\u001b[A\n",
            " 18%|█▊        | 1821/10000 [00:01<00:06, 1303.57it/s]\u001b[A\n",
            " 20%|█▉        | 1958/10000 [00:01<00:06, 1322.71it/s]\u001b[A\n",
            " 21%|██        | 2099/10000 [00:01<00:05, 1345.63it/s]\u001b[A\n",
            " 22%|██▏       | 2234/10000 [00:01<00:05, 1327.92it/s]\u001b[A\n",
            " 24%|██▎       | 2367/10000 [00:01<00:05, 1301.30it/s]\u001b[A\n",
            " 25%|██▌       | 2513/10000 [00:01<00:05, 1343.25it/s]\u001b[A\n",
            " 26%|██▋       | 2650/10000 [00:02<00:05, 1348.51it/s]\u001b[A\n",
            " 28%|██▊       | 2786/10000 [00:02<00:05, 1346.04it/s]\u001b[A\n",
            " 29%|██▉       | 2927/10000 [00:02<00:05, 1363.29it/s]\u001b[A\n",
            " 31%|███       | 3070/10000 [00:02<00:05, 1381.85it/s]\u001b[A\n",
            " 32%|███▏      | 3209/10000 [00:02<00:05, 1357.09it/s]\u001b[A\n",
            " 34%|███▎      | 3351/10000 [00:02<00:04, 1374.28it/s]\u001b[A\n",
            " 35%|███▍      | 3498/10000 [00:02<00:04, 1400.15it/s]\u001b[A\n",
            " 36%|███▋      | 3644/10000 [00:02<00:04, 1415.58it/s]\u001b[A\n",
            " 38%|███▊      | 3790/10000 [00:02<00:04, 1428.40it/s]\u001b[A\n",
            " 39%|███▉      | 3938/10000 [00:02<00:04, 1442.69it/s]\u001b[A\n",
            " 41%|████      | 4083/10000 [00:03<00:04, 1430.18it/s]\u001b[A\n",
            " 42%|████▏     | 4229/10000 [00:03<00:04, 1438.66it/s]\u001b[A\n",
            " 44%|████▎     | 4373/10000 [00:03<00:04, 1376.93it/s]\u001b[A\n",
            " 45%|████▌     | 4528/10000 [00:03<00:03, 1421.93it/s]\u001b[A\n",
            " 47%|████▋     | 4672/10000 [00:03<00:03, 1345.56it/s]\u001b[A\n",
            " 48%|████▊     | 4810/10000 [00:03<00:03, 1353.89it/s]\u001b[A\n",
            " 49%|████▉     | 4947/10000 [00:03<00:03, 1352.45it/s]\u001b[A\n",
            " 51%|█████     | 5083/10000 [00:03<00:03, 1349.64it/s]\u001b[A\n",
            " 52%|█████▏    | 5219/10000 [00:03<00:03, 1345.93it/s]\u001b[A\n",
            " 54%|█████▎    | 5356/10000 [00:03<00:03, 1352.87it/s]\u001b[A\n",
            " 55%|█████▍    | 5494/10000 [00:04<00:03, 1359.10it/s]\u001b[A\n",
            " 56%|█████▋    | 5631/10000 [00:04<00:03, 1326.02it/s]\u001b[A\n",
            " 58%|█████▊    | 5767/10000 [00:04<00:03, 1335.35it/s]\u001b[A\n",
            " 59%|█████▉    | 5901/10000 [00:04<00:03, 1336.20it/s]\u001b[A\n",
            " 60%|██████    | 6035/10000 [00:04<00:03, 1290.28it/s]\u001b[A\n",
            " 62%|██████▏   | 6165/10000 [00:04<00:03, 1268.83it/s]\u001b[A\n",
            " 63%|██████▎   | 6310/10000 [00:04<00:02, 1316.89it/s]\u001b[A\n",
            " 64%|██████▍   | 6450/10000 [00:04<00:02, 1338.63it/s]\u001b[A\n",
            " 66%|██████▌   | 6585/10000 [00:04<00:02, 1292.33it/s]\u001b[A\n",
            " 67%|██████▋   | 6716/10000 [00:05<00:02, 1276.07it/s]\u001b[A\n",
            " 68%|██████▊   | 6845/10000 [00:05<00:02, 1279.82it/s]\u001b[A\n",
            " 70%|██████▉   | 6974/10000 [00:05<00:02, 1254.29it/s]\u001b[A\n",
            " 71%|███████   | 7106/10000 [00:05<00:02, 1271.19it/s]\u001b[A\n",
            " 72%|███████▏  | 7234/10000 [00:05<00:02, 1264.27it/s]\u001b[A\n",
            " 74%|███████▎  | 7361/10000 [00:05<00:02, 1258.74it/s]\u001b[A\n",
            " 75%|███████▍  | 7498/10000 [00:05<00:01, 1287.97it/s]\u001b[A\n",
            " 76%|███████▋  | 7637/10000 [00:05<00:01, 1315.04it/s]\u001b[A\n",
            " 78%|███████▊  | 7781/10000 [00:05<00:01, 1347.96it/s]\u001b[A\n",
            " 79%|███████▉  | 7922/10000 [00:05<00:01, 1363.47it/s]\u001b[A\n",
            " 81%|████████  | 8061/10000 [00:06<00:01, 1370.66it/s]\u001b[A\n",
            " 82%|████████▏ | 8199/10000 [00:06<00:01, 1354.28it/s]\u001b[A\n",
            " 83%|████████▎ | 8335/10000 [00:06<00:01, 1349.48it/s]\u001b[A\n",
            " 85%|████████▍ | 8471/10000 [00:06<00:01, 1327.98it/s]\u001b[A\n",
            " 86%|████████▌ | 8607/10000 [00:06<00:01, 1336.17it/s]\u001b[A\n",
            " 87%|████████▋ | 8742/10000 [00:06<00:00, 1338.92it/s]\u001b[A\n",
            " 89%|████████▉ | 8876/10000 [00:06<00:00, 1285.91it/s]\u001b[A\n",
            " 90%|█████████ | 9022/10000 [00:06<00:00, 1331.18it/s]\u001b[A\n",
            " 92%|█████████▏| 9163/10000 [00:06<00:00, 1351.07it/s]\u001b[A\n",
            " 93%|█████████▎| 9308/10000 [00:06<00:00, 1376.93it/s]\u001b[A\n",
            " 95%|█████████▍| 9452/10000 [00:07<00:00, 1392.25it/s]\u001b[A\n",
            " 96%|█████████▌| 9595/10000 [00:07<00:00, 1402.95it/s]\u001b[A\n",
            " 97%|█████████▋| 9736/10000 [00:07<00:00, 1396.48it/s]\u001b[A\n",
            " 99%|█████████▉| 9876/10000 [00:07<00:00, 1373.66it/s]\u001b[A\n",
            "100%|██████████| 10000/10000 [00:07<00:00, 1337.60it/s]\u001b[A"
          ],
          "name": "stderr"
        },
        {
          "output_type": "display_data",
          "data": {
            "image/png": "[encoded data removed]",
            "text/plain": [
              "<Figure size 1080x720 with 1 Axes>"
            ]
          },
          "metadata": {
            "tags": []
          }
        },
        {
          "output_type": "stream",
          "text": [
            "CPU times: user 7.08 s, sys: 369 ms, total: 7.45 s\n",
            "Wall time: 7.81 s\n"
          ],
          "name": "stdout"
        }
      ]
    },
    {
      "cell_type": "code",
      "metadata": {
        "id": "5g7oJfK9SP1n",
        "colab_type": "code",
        "outputId": "64c8d963-3adf-41fd-ca5a-79d6b4ba95d4",
        "colab": {
          "base_uri": "https://localhost:8080/",
          "height": 289
        }
      },
      "source": [
        "for _x, _y in zip(X_pt, Y_pt):\n",
        "    prediction = model_2layers(_x)\n",
        "    print('Input:\\t', list(map(int, _x)))\n",
        "    print('Pred:\\t', int(prediction > 0.5))\n",
        "    print('Ouput:\\t', int(_y))\n",
        "    print('######')"
      ],
      "execution_count": 0,
      "outputs": [
        {
          "output_type": "stream",
          "text": [
            "Input:\t [0, 0]\n",
            "Pred:\t 0\n",
            "Ouput:\t 0\n",
            "######\n",
            "Input:\t [0, 1]\n",
            "Pred:\t 1\n",
            "Ouput:\t 1\n",
            "######\n",
            "Input:\t [1, 0]\n",
            "Pred:\t 1\n",
            "Ouput:\t 1\n",
            "######\n",
            "Input:\t [1, 1]\n",
            "Pred:\t 0\n",
            "Ouput:\t 0\n",
            "######\n"
          ],
          "name": "stdout"
        }
      ]
    },
    {
      "cell_type": "code",
      "metadata": {
        "id": "Mz_hlOyHWnuv",
        "colab_type": "code",
        "colab": {}
      },
      "source": [
        "##All Looks Good .. Lets try next"
      ],
      "execution_count": 0,
      "outputs": []
    },
    {
      "cell_type": "markdown",
      "metadata": {
        "id": "R9Zqgb74Y59o",
        "colab_type": "text"
      },
      "source": [
        "MNIST: The \"Hello World\" of Neural Nets\n",
        "====\n",
        "\n",
        "Like any deep learning class, we ***must*** do the MNIST. \n",
        "\n",
        "The MNIST dataset is \n",
        "\n",
        " - is made up of handwritten digits \n",
        " - 60,000 examples training set\n",
        " - 10,000 examples test set"
      ]
    },
    {
      "cell_type": "code",
      "metadata": {
        "id": "VGzbUTuuY1kO",
        "colab_type": "code",
        "colab": {}
      },
      "source": [
        "from torchvision import datasets, transforms\n",
        "import numpy as np"
      ],
      "execution_count": 0,
      "outputs": []
    },
    {
      "cell_type": "code",
      "metadata": {
        "id": "tekObRuAY9O4",
        "colab_type": "code",
        "colab": {}
      },
      "source": [
        "mnist_train = datasets.MNIST('./data', train=True, download=True, \n",
        "                             transform=transforms.Compose([\n",
        "                                 transforms.ToTensor(),\n",
        "                                 transforms.Normalize((0.1307,), (0.3081,))\n",
        "                             ]))\n",
        "\n",
        "mnist_test = datasets.MNIST('./data', train=False, download=True, \n",
        "                             transform=transforms.Compose([\n",
        "                                 transforms.ToTensor(),\n",
        "                                 transforms.Normalize((0.1307,), (0.3081,))\n",
        "                             ]))"
      ],
      "execution_count": 0,
      "outputs": []
    },
    {
      "cell_type": "code",
      "metadata": {
        "id": "tyap8OJcZDjq",
        "colab_type": "code",
        "colab": {}
      },
      "source": [
        "# Visualization Candies\n",
        "import matplotlib.pyplot as plt\n",
        "\n",
        "def show_image(mnist_x_vector, mnist_y_vector):\n",
        "    pixels = mnist_x_vector.reshape((28, 28))\n",
        "    label = np.where(mnist_y_vector == 1)[0]\n",
        "    plt.title('Label is {}'.format(label))\n",
        "    plt.imshow(pixels, cmap='gray')\n",
        "    plt.show()"
      ],
      "execution_count": 0,
      "outputs": []
    },
    {
      "cell_type": "code",
      "metadata": {
        "id": "HMxUmiZvZWYO",
        "colab_type": "code",
        "outputId": "ffb12da3-398b-4a2a-a154-2d9953617162",
        "colab": {
          "base_uri": "https://localhost:8080/",
          "height": 281
        }
      },
      "source": [
        "# Fifth image and label.\n",
        "show_image(mnist_train.data[5], mnist_train.targets[5])"
      ],
      "execution_count": 4,
      "outputs": [
        {
          "output_type": "display_data",
          "data": {
            "image/png": "[encoded data removed]",
            "text/plain": [
              "<Figure size 432x288 with 1 Axes>"
            ]
          },
          "metadata": {
            "tags": []
          }
        }
      ]
    },
    {
      "cell_type": "markdown",
      "metadata": {
        "id": "P36xC8EtZfln",
        "colab_type": "text"
      },
      "source": [
        "# Lets apply what we learn about multi-layered perceptron with PyTorch and apply it to the MNIST data. "
      ]
    },
    {
      "cell_type": "code",
      "metadata": {
        "id": "YGC-5ES9Zbot",
        "colab_type": "code",
        "colab": {}
      },
      "source": [
        "X_mnist = mnist_train.data.float()\n",
        "Y_mnist = mnist_train.targets.float()\n",
        "\n",
        "X_mnist_test = mnist_test.data.float()\n",
        "Y_mnist_test = mnist_test.targets.float()"
      ],
      "execution_count": 0,
      "outputs": []
    },
    {
      "cell_type": "code",
      "metadata": {
        "id": "FiJWiy1TZlpm",
        "colab_type": "code",
        "outputId": "7b14beaf-2789-471d-b38a-13b5d9e39272",
        "colab": {
          "base_uri": "https://localhost:8080/",
          "height": 34
        }
      },
      "source": [
        "#Total records\n",
        "Y_mnist.shape"
      ],
      "execution_count": 14,
      "outputs": [
        {
          "output_type": "execute_result",
          "data": {
            "text/plain": [
              "torch.Size([60000])"
            ]
          },
          "metadata": {
            "tags": []
          },
          "execution_count": 14
        }
      ]
    },
    {
      "cell_type": "code",
      "metadata": {
        "id": "mvZ1g8wgZpF1",
        "colab_type": "code",
        "outputId": "83c91cbe-2654-4759-d662-71a6b4a04566",
        "colab": {
          "base_uri": "https://localhost:8080/",
          "height": 68
        }
      },
      "source": [
        "# Use FloatTensor.shape to get the shape of the matrix/tensor.\n",
        "num_data, *input_dim = X_mnist.shape\n",
        "print('No. of images:', num_data)\n",
        "print('Inputs Dim:', input_dim)\n",
        "\n",
        "num_data, *output_dim = Y_mnist.shape\n",
        "num_test_data, *output_dim = Y_mnist_test.shape\n",
        "print('Output Dim:', output_dim)"
      ],
      "execution_count": 15,
      "outputs": [
        {
          "output_type": "stream",
          "text": [
            "No. of images: 60000\n",
            "Inputs Dim: [28, 28]\n",
            "Output Dim: []\n"
          ],
          "name": "stdout"
        }
      ]
    },
    {
      "cell_type": "code",
      "metadata": {
        "id": "S3BhriaQZrqy",
        "colab_type": "code",
        "colab": {}
      },
      "source": [
        "device = 'cuda' if torch.cuda.is_available()  else 'cpu'\n",
        "# Flatten the dimensions of the images.\n",
        "X_mnist = mnist_train.data.float().view(num_data, -1).to(device)\n",
        "Y_mnist = mnist_train.targets.float().unsqueeze(1).to(device)\n",
        "\n",
        "X_mnist_test = mnist_test.data.float().view(num_test_data, -1).to(device)\n",
        "Y_mnist_test = mnist_test.targets.float().unsqueeze(1).to(device)"
      ],
      "execution_count": 0,
      "outputs": []
    },
    {
      "cell_type": "code",
      "metadata": {
        "id": "dU5cUA9zfuNb",
        "colab_type": "code",
        "colab": {
          "base_uri": "https://localhost:8080/",
          "height": 68
        },
        "outputId": "b80a1bd3-c055-4114-db13-4c74348b4956"
      },
      "source": [
        "# Use FloatTensor.shape to get the shape of the matrix/tensor.\n",
        "num_data, *input_dim = X_mnist.shape\n",
        "print('No. of images:', num_data)\n",
        "print('Inputs Dim:', input_dim)\n",
        "\n",
        "num_data, *output_dim = Y_mnist.shape\n",
        "num_test_data, *output_dim = Y_mnist_test.shape\n",
        "print('Output Dim:', output_dim)"
      ],
      "execution_count": 17,
      "outputs": [
        {
          "output_type": "stream",
          "text": [
            "No. of images: 60000\n",
            "Inputs Dim: [784]\n",
            "Output Dim: [1]\n"
          ],
          "name": "stdout"
        }
      ]
    },
    {
      "cell_type": "code",
      "metadata": {
        "id": "F6BBGGIlZ-LH",
        "colab_type": "code",
        "outputId": "d47a23a2-6137-4a14-e55e-9371d91cdee3",
        "colab": {
          "base_uri": "https://localhost:8080/",
          "height": 316
        }
      },
      "source": [
        "%%time\n",
        "hidden_dim = 10\n",
        "\n",
        "model = nn.Sequential(nn.Linear(input_dim[0], 1),  # or we can give as 784,1\n",
        "                      nn.Sigmoid()).to(device)\n",
        "\n",
        "criterion = nn.MSELoss()\n",
        "learning_rate = 0.001\n",
        "optimizer = optim.SGD(model.parameters(), lr=learning_rate)\n",
        "num_epochs = 100000\n",
        "\n",
        "\n",
        "losses = []\n",
        "plt.ion()\n",
        "\n",
        "for _e in tqdm(range(num_epochs)):\n",
        "    optimizer.zero_grad()\n",
        "    predictions = model(X_mnist).to(device)\n",
        "    loss_this_epoch = criterion(predictions,Y_mnist)\n",
        "    loss_this_epoch.backward()\n",
        "    optimizer.step()\n",
        "    ##print([float(_pred) for _pred in predictions], list(map(int, Y_pt)), loss_this_epoch.data[0])\n",
        "    losses.append(loss_this_epoch.data.item())\n",
        "\n",
        "    #clear_output(wait=True)\n",
        "    #plt.plot(losses)\n",
        "    #plt.pause(0.05)\n",
        "\n",
        "# Visualize the losses\n",
        "plt.plot(losses)\n",
        "plt.show()"
      ],
      "execution_count": 19,
      "outputs": [
        {
          "output_type": "stream",
          "text": [
            "100%|██████████| 100000/100000 [01:44<00:00, 953.06it/s]\n"
          ],
          "name": "stderr"
        },
        {
          "output_type": "display_data",
          "data": {
            "image/png": "[encoded data removed]",
            "text/plain": [
              "<Figure size 432x288 with 1 Axes>"
            ]
          },
          "metadata": {
            "tags": []
          }
        },
        {
          "output_type": "stream",
          "text": [
            "CPU times: user 1min 17s, sys: 25 s, total: 1min 42s\n",
            "Wall time: 1min 45s\n"
          ],
          "name": "stdout"
        }
      ]
    },
    {
      "cell_type": "code",
      "metadata": {
        "id": "zFKQuxqSbsZo",
        "colab_type": "code",
        "outputId": "663bbd9d-cee4-4b86-e3f3-8e66d3ae1971",
        "colab": {
          "base_uri": "https://localhost:8080/",
          "height": 34
        }
      },
      "source": [
        "predictions = model(X_mnist_test).cpu().data.numpy().argmax()\n",
        "predictions"
      ],
      "execution_count": 27,
      "outputs": [
        {
          "output_type": "execute_result",
          "data": {
            "text/plain": [
              "0"
            ]
          },
          "metadata": {
            "tags": []
          },
          "execution_count": 27
        }
      ]
    },
    {
      "cell_type": "code",
      "metadata": {
        "id": "jjQJPR_6dZTD",
        "colab_type": "code",
        "outputId": "fbdcdc6e-2972-4ce0-c309-2d9038e50ce5",
        "colab": {
          "base_uri": "https://localhost:8080/",
          "height": 181
        }
      },
      "source": [
        "pred = np.array([np.argmax(_p) for _p in predictions.data.numpy()])\n",
        "pred"
      ],
      "execution_count": 28,
      "outputs": [
        {
          "output_type": "error",
          "ename": "AttributeError",
          "evalue": "ignored",
          "traceback": [
            "\u001b[0;31m---------------------------------------------------------------------------\u001b[0m",
            "\u001b[0;31mAttributeError\u001b[0m                            Traceback (most recent call last)",
            "\u001b[0;32m<ipython-input-28-a068e599d003>\u001b[0m in \u001b[0;36m<module>\u001b[0;34m()\u001b[0m\n\u001b[0;32m----> 1\u001b[0;31m \u001b[0mpred\u001b[0m \u001b[0;34m=\u001b[0m \u001b[0mnp\u001b[0m\u001b[0;34m.\u001b[0m\u001b[0marray\u001b[0m\u001b[0;34m(\u001b[0m\u001b[0;34m[\u001b[0m\u001b[0mnp\u001b[0m\u001b[0;34m.\u001b[0m\u001b[0margmax\u001b[0m\u001b[0;34m(\u001b[0m\u001b[0m_p\u001b[0m\u001b[0;34m)\u001b[0m \u001b[0;32mfor\u001b[0m \u001b[0m_p\u001b[0m \u001b[0;32min\u001b[0m \u001b[0mpredictions\u001b[0m\u001b[0;34m.\u001b[0m\u001b[0mdata\u001b[0m\u001b[0;34m.\u001b[0m\u001b[0mnumpy\u001b[0m\u001b[0;34m(\u001b[0m\u001b[0;34m)\u001b[0m\u001b[0;34m]\u001b[0m\u001b[0;34m)\u001b[0m\u001b[0;34m\u001b[0m\u001b[0;34m\u001b[0m\u001b[0m\n\u001b[0m\u001b[1;32m      2\u001b[0m \u001b[0mpred\u001b[0m\u001b[0;34m\u001b[0m\u001b[0;34m\u001b[0m\u001b[0m\n",
            "\u001b[0;31mAttributeError\u001b[0m: 'memoryview' object has no attribute 'numpy'"
          ]
        }
      ]
    },
    {
      "cell_type": "code",
      "metadata": {
        "id": "-31hkP4Ede1B",
        "colab_type": "code",
        "outputId": "f12f7009-6575-449e-b4bc-a701675f5072",
        "colab": {
          "base_uri": "https://localhost:8080/",
          "height": 181
        }
      },
      "source": [
        "truth = np.array([np.argmax(_p) for _p in Y_mnist_test.data.numpy()])\n",
        "truth"
      ],
      "execution_count": 29,
      "outputs": [
        {
          "output_type": "error",
          "ename": "TypeError",
          "evalue": "ignored",
          "traceback": [
            "\u001b[0;31m---------------------------------------------------------------------------\u001b[0m",
            "\u001b[0;31mTypeError\u001b[0m                                 Traceback (most recent call last)",
            "\u001b[0;32m<ipython-input-29-5a10747f0b9d>\u001b[0m in \u001b[0;36m<module>\u001b[0;34m()\u001b[0m\n\u001b[0;32m----> 1\u001b[0;31m \u001b[0mtruth\u001b[0m \u001b[0;34m=\u001b[0m \u001b[0mnp\u001b[0m\u001b[0;34m.\u001b[0m\u001b[0marray\u001b[0m\u001b[0;34m(\u001b[0m\u001b[0;34m[\u001b[0m\u001b[0mnp\u001b[0m\u001b[0;34m.\u001b[0m\u001b[0margmax\u001b[0m\u001b[0;34m(\u001b[0m\u001b[0m_p\u001b[0m\u001b[0;34m)\u001b[0m \u001b[0;32mfor\u001b[0m \u001b[0m_p\u001b[0m \u001b[0;32min\u001b[0m \u001b[0mY_mnist_test\u001b[0m\u001b[0;34m.\u001b[0m\u001b[0mdata\u001b[0m\u001b[0;34m.\u001b[0m\u001b[0mnumpy\u001b[0m\u001b[0;34m(\u001b[0m\u001b[0;34m)\u001b[0m\u001b[0;34m]\u001b[0m\u001b[0;34m)\u001b[0m\u001b[0;34m\u001b[0m\u001b[0;34m\u001b[0m\u001b[0m\n\u001b[0m\u001b[1;32m      2\u001b[0m \u001b[0mtruth\u001b[0m\u001b[0;34m\u001b[0m\u001b[0;34m\u001b[0m\u001b[0m\n",
            "\u001b[0;31mTypeError\u001b[0m: can't convert CUDA tensor to numpy. Use Tensor.cpu() to copy the tensor to host memory first."
          ]
        }
      ]
    },
    {
      "cell_type": "code",
      "metadata": {
        "id": "EFF15clCdh8L",
        "colab_type": "code",
        "outputId": "eaac5afd-6096-427c-fa16-b12737bfa8db",
        "colab": {
          "base_uri": "https://localhost:8080/",
          "height": 164
        }
      },
      "source": [
        "(pred == truth).sum() / len(pred)"
      ],
      "execution_count": 23,
      "outputs": [
        {
          "output_type": "error",
          "ename": "NameError",
          "evalue": "ignored",
          "traceback": [
            "\u001b[0;31m---------------------------------------------------------------------------\u001b[0m",
            "\u001b[0;31mNameError\u001b[0m                                 Traceback (most recent call last)",
            "\u001b[0;32m<ipython-input-23-e90a70112944>\u001b[0m in \u001b[0;36m<module>\u001b[0;34m()\u001b[0m\n\u001b[0;32m----> 1\u001b[0;31m \u001b[0;34m(\u001b[0m\u001b[0mpred\u001b[0m \u001b[0;34m==\u001b[0m \u001b[0mtruth\u001b[0m\u001b[0;34m)\u001b[0m\u001b[0;34m.\u001b[0m\u001b[0msum\u001b[0m\u001b[0;34m(\u001b[0m\u001b[0;34m)\u001b[0m \u001b[0;34m/\u001b[0m \u001b[0mlen\u001b[0m\u001b[0;34m(\u001b[0m\u001b[0mpred\u001b[0m\u001b[0;34m)\u001b[0m\u001b[0;34m\u001b[0m\u001b[0;34m\u001b[0m\u001b[0m\n\u001b[0m",
            "\u001b[0;31mNameError\u001b[0m: name 'pred' is not defined"
          ]
        }
      ]
    },
    {
      "cell_type": "code",
      "metadata": {
        "id": "aCVVWbxndkCJ",
        "colab_type": "code",
        "colab": {}
      },
      "source": [
        ""
      ],
      "execution_count": 0,
      "outputs": []
    }
  ]
}